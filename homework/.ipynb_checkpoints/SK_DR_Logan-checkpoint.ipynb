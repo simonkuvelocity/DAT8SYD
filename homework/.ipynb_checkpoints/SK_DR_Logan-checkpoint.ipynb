{
 "cells": [
  {
   "cell_type": "code",
   "execution_count": 5,
   "metadata": {
    "collapsed": false
   },
   "outputs": [
    {
     "data": {
      "text/plain": [
       "<datarobot.rest.RESTClientObject at 0x98e3ba8>"
      ]
     },
     "execution_count": 5,
     "metadata": {},
     "output_type": "execute_result"
    }
   ],
   "source": [
    "#import datarobot as dr\n",
    "dr.Client(token='DVcolsRAsDy2LENNLdjzjNxFUufNMgAx', endpoint = 'http://192.168.101/api/v2')\n",
    "#project = dr.Project.create('/Users/datarobotpoc/Desktop/Logan_Detailed_Statistics_Departures_2013.csv',\n",
    "#                         project_name='Logan Boston example DAT ')\n",
    "#project.id\n"
   ]
  },
  {
   "cell_type": "code",
   "execution_count": 2,
   "metadata": {
    "collapsed": false
   },
   "outputs": [
    {
     "data": {
      "text/plain": [
       "<datarobot.rest.RESTClientObject at 0x4954cf8>"
      ]
     },
     "execution_count": 2,
     "metadata": {},
     "output_type": "execute_result"
    }
   ],
   "source": [
    "import datarobot as dr\n",
    "dr.Client(token='DVcolsRAsDy2LENNLdjzjNxFUufNMgAx', endpoint = 'http://192.168.101/api/v2')"
   ]
  },
  {
   "cell_type": "code",
   "execution_count": 3,
   "metadata": {
    "collapsed": false
   },
   "outputs": [
    {
     "ename": "ConnectionError",
     "evalue": "HTTPConnectionPool(host='192.168.1.1', port=80): Max retries exceeded with url: /api/v2/projects/ (Caused by NewConnectionError('<requests.packages.urllib3.connection.HTTPConnection object at 0x0000000008D187B8>: Failed to establish a new connection: [WinError 10060] A connection attempt failed because the connected party did not properly respond after a period of time, or established connection failed because connected host has failed to respond',))",
     "output_type": "error",
     "traceback": [
      "\u001b[0;31m---------------------------------------------------------------------------\u001b[0m",
      "\u001b[0;31mTimeoutError\u001b[0m                              Traceback (most recent call last)",
      "\u001b[0;32mC:\\ProgramData\\Anaconda3\\lib\\site-packages\\requests\\packages\\urllib3\\connection.py\u001b[0m in \u001b[0;36m_new_conn\u001b[0;34m(self)\u001b[0m\n\u001b[1;32m    137\u001b[0m             conn = connection.create_connection(\n\u001b[0;32m--> 138\u001b[0;31m                 (self.host, self.port), self.timeout, **extra_kw)\n\u001b[0m\u001b[1;32m    139\u001b[0m \u001b[1;33m\u001b[0m\u001b[0m\n",
      "\u001b[0;32mC:\\ProgramData\\Anaconda3\\lib\\site-packages\\requests\\packages\\urllib3\\util\\connection.py\u001b[0m in \u001b[0;36mcreate_connection\u001b[0;34m(address, timeout, source_address, socket_options)\u001b[0m\n\u001b[1;32m     97\u001b[0m     \u001b[1;32mif\u001b[0m \u001b[0merr\u001b[0m \u001b[1;32mis\u001b[0m \u001b[1;32mnot\u001b[0m \u001b[1;32mNone\u001b[0m\u001b[1;33m:\u001b[0m\u001b[1;33m\u001b[0m\u001b[0m\n\u001b[0;32m---> 98\u001b[0;31m         \u001b[1;32mraise\u001b[0m \u001b[0merr\u001b[0m\u001b[1;33m\u001b[0m\u001b[0m\n\u001b[0m\u001b[1;32m     99\u001b[0m \u001b[1;33m\u001b[0m\u001b[0m\n",
      "\u001b[0;32mC:\\ProgramData\\Anaconda3\\lib\\site-packages\\requests\\packages\\urllib3\\util\\connection.py\u001b[0m in \u001b[0;36mcreate_connection\u001b[0;34m(address, timeout, source_address, socket_options)\u001b[0m\n\u001b[1;32m     87\u001b[0m                 \u001b[0msock\u001b[0m\u001b[1;33m.\u001b[0m\u001b[0mbind\u001b[0m\u001b[1;33m(\u001b[0m\u001b[0msource_address\u001b[0m\u001b[1;33m)\u001b[0m\u001b[1;33m\u001b[0m\u001b[0m\n\u001b[0;32m---> 88\u001b[0;31m             \u001b[0msock\u001b[0m\u001b[1;33m.\u001b[0m\u001b[0mconnect\u001b[0m\u001b[1;33m(\u001b[0m\u001b[0msa\u001b[0m\u001b[1;33m)\u001b[0m\u001b[1;33m\u001b[0m\u001b[0m\n\u001b[0m\u001b[1;32m     89\u001b[0m             \u001b[1;32mreturn\u001b[0m \u001b[0msock\u001b[0m\u001b[1;33m\u001b[0m\u001b[0m\n",
      "\u001b[0;31mTimeoutError\u001b[0m: [WinError 10060] A connection attempt failed because the connected party did not properly respond after a period of time, or established connection failed because connected host has failed to respond",
      "\nDuring handling of the above exception, another exception occurred:\n",
      "\u001b[0;31mNewConnectionError\u001b[0m                        Traceback (most recent call last)",
      "\u001b[0;32mC:\\ProgramData\\Anaconda3\\lib\\site-packages\\requests\\packages\\urllib3\\connectionpool.py\u001b[0m in \u001b[0;36murlopen\u001b[0;34m(self, method, url, body, headers, retries, redirect, assert_same_host, timeout, pool_timeout, release_conn, chunked, **response_kw)\u001b[0m\n\u001b[1;32m    593\u001b[0m                                                   \u001b[0mbody\u001b[0m\u001b[1;33m=\u001b[0m\u001b[0mbody\u001b[0m\u001b[1;33m,\u001b[0m \u001b[0mheaders\u001b[0m\u001b[1;33m=\u001b[0m\u001b[0mheaders\u001b[0m\u001b[1;33m,\u001b[0m\u001b[1;33m\u001b[0m\u001b[0m\n\u001b[0;32m--> 594\u001b[0;31m                                                   chunked=chunked)\n\u001b[0m\u001b[1;32m    595\u001b[0m \u001b[1;33m\u001b[0m\u001b[0m\n",
      "\u001b[0;32mC:\\ProgramData\\Anaconda3\\lib\\site-packages\\requests\\packages\\urllib3\\connectionpool.py\u001b[0m in \u001b[0;36m_make_request\u001b[0;34m(self, conn, method, url, timeout, chunked, **httplib_request_kw)\u001b[0m\n\u001b[1;32m    360\u001b[0m         \u001b[1;32melse\u001b[0m\u001b[1;33m:\u001b[0m\u001b[1;33m\u001b[0m\u001b[0m\n\u001b[0;32m--> 361\u001b[0;31m             \u001b[0mconn\u001b[0m\u001b[1;33m.\u001b[0m\u001b[0mrequest\u001b[0m\u001b[1;33m(\u001b[0m\u001b[0mmethod\u001b[0m\u001b[1;33m,\u001b[0m \u001b[0murl\u001b[0m\u001b[1;33m,\u001b[0m \u001b[1;33m**\u001b[0m\u001b[0mhttplib_request_kw\u001b[0m\u001b[1;33m)\u001b[0m\u001b[1;33m\u001b[0m\u001b[0m\n\u001b[0m\u001b[1;32m    362\u001b[0m \u001b[1;33m\u001b[0m\u001b[0m\n",
      "\u001b[0;32mC:\\ProgramData\\Anaconda3\\lib\\http\\client.py\u001b[0m in \u001b[0;36mrequest\u001b[0;34m(self, method, url, body, headers, encode_chunked)\u001b[0m\n\u001b[1;32m   1238\u001b[0m         \u001b[1;34m\"\"\"Send a complete request to the server.\"\"\"\u001b[0m\u001b[1;33m\u001b[0m\u001b[0m\n\u001b[0;32m-> 1239\u001b[0;31m         \u001b[0mself\u001b[0m\u001b[1;33m.\u001b[0m\u001b[0m_send_request\u001b[0m\u001b[1;33m(\u001b[0m\u001b[0mmethod\u001b[0m\u001b[1;33m,\u001b[0m \u001b[0murl\u001b[0m\u001b[1;33m,\u001b[0m \u001b[0mbody\u001b[0m\u001b[1;33m,\u001b[0m \u001b[0mheaders\u001b[0m\u001b[1;33m,\u001b[0m \u001b[0mencode_chunked\u001b[0m\u001b[1;33m)\u001b[0m\u001b[1;33m\u001b[0m\u001b[0m\n\u001b[0m\u001b[1;32m   1240\u001b[0m \u001b[1;33m\u001b[0m\u001b[0m\n",
      "\u001b[0;32mC:\\ProgramData\\Anaconda3\\lib\\http\\client.py\u001b[0m in \u001b[0;36m_send_request\u001b[0;34m(self, method, url, body, headers, encode_chunked)\u001b[0m\n\u001b[1;32m   1284\u001b[0m             \u001b[0mbody\u001b[0m \u001b[1;33m=\u001b[0m \u001b[0m_encode\u001b[0m\u001b[1;33m(\u001b[0m\u001b[0mbody\u001b[0m\u001b[1;33m,\u001b[0m \u001b[1;34m'body'\u001b[0m\u001b[1;33m)\u001b[0m\u001b[1;33m\u001b[0m\u001b[0m\n\u001b[0;32m-> 1285\u001b[0;31m         \u001b[0mself\u001b[0m\u001b[1;33m.\u001b[0m\u001b[0mendheaders\u001b[0m\u001b[1;33m(\u001b[0m\u001b[0mbody\u001b[0m\u001b[1;33m,\u001b[0m \u001b[0mencode_chunked\u001b[0m\u001b[1;33m=\u001b[0m\u001b[0mencode_chunked\u001b[0m\u001b[1;33m)\u001b[0m\u001b[1;33m\u001b[0m\u001b[0m\n\u001b[0m\u001b[1;32m   1286\u001b[0m \u001b[1;33m\u001b[0m\u001b[0m\n",
      "\u001b[0;32mC:\\ProgramData\\Anaconda3\\lib\\http\\client.py\u001b[0m in \u001b[0;36mendheaders\u001b[0;34m(self, message_body, encode_chunked)\u001b[0m\n\u001b[1;32m   1233\u001b[0m             \u001b[1;32mraise\u001b[0m \u001b[0mCannotSendHeader\u001b[0m\u001b[1;33m(\u001b[0m\u001b[1;33m)\u001b[0m\u001b[1;33m\u001b[0m\u001b[0m\n\u001b[0;32m-> 1234\u001b[0;31m         \u001b[0mself\u001b[0m\u001b[1;33m.\u001b[0m\u001b[0m_send_output\u001b[0m\u001b[1;33m(\u001b[0m\u001b[0mmessage_body\u001b[0m\u001b[1;33m,\u001b[0m \u001b[0mencode_chunked\u001b[0m\u001b[1;33m=\u001b[0m\u001b[0mencode_chunked\u001b[0m\u001b[1;33m)\u001b[0m\u001b[1;33m\u001b[0m\u001b[0m\n\u001b[0m\u001b[1;32m   1235\u001b[0m \u001b[1;33m\u001b[0m\u001b[0m\n",
      "\u001b[0;32mC:\\ProgramData\\Anaconda3\\lib\\http\\client.py\u001b[0m in \u001b[0;36m_send_output\u001b[0;34m(self, message_body, encode_chunked)\u001b[0m\n\u001b[1;32m   1025\u001b[0m         \u001b[1;32mdel\u001b[0m \u001b[0mself\u001b[0m\u001b[1;33m.\u001b[0m\u001b[0m_buffer\u001b[0m\u001b[1;33m[\u001b[0m\u001b[1;33m:\u001b[0m\u001b[1;33m]\u001b[0m\u001b[1;33m\u001b[0m\u001b[0m\n\u001b[0;32m-> 1026\u001b[0;31m         \u001b[0mself\u001b[0m\u001b[1;33m.\u001b[0m\u001b[0msend\u001b[0m\u001b[1;33m(\u001b[0m\u001b[0mmsg\u001b[0m\u001b[1;33m)\u001b[0m\u001b[1;33m\u001b[0m\u001b[0m\n\u001b[0m\u001b[1;32m   1027\u001b[0m \u001b[1;33m\u001b[0m\u001b[0m\n",
      "\u001b[0;32mC:\\ProgramData\\Anaconda3\\lib\\http\\client.py\u001b[0m in \u001b[0;36msend\u001b[0;34m(self, data)\u001b[0m\n\u001b[1;32m    963\u001b[0m             \u001b[1;32mif\u001b[0m \u001b[0mself\u001b[0m\u001b[1;33m.\u001b[0m\u001b[0mauto_open\u001b[0m\u001b[1;33m:\u001b[0m\u001b[1;33m\u001b[0m\u001b[0m\n\u001b[0;32m--> 964\u001b[0;31m                 \u001b[0mself\u001b[0m\u001b[1;33m.\u001b[0m\u001b[0mconnect\u001b[0m\u001b[1;33m(\u001b[0m\u001b[1;33m)\u001b[0m\u001b[1;33m\u001b[0m\u001b[0m\n\u001b[0m\u001b[1;32m    965\u001b[0m             \u001b[1;32melse\u001b[0m\u001b[1;33m:\u001b[0m\u001b[1;33m\u001b[0m\u001b[0m\n",
      "\u001b[0;32mC:\\ProgramData\\Anaconda3\\lib\\site-packages\\requests\\packages\\urllib3\\connection.py\u001b[0m in \u001b[0;36mconnect\u001b[0;34m(self)\u001b[0m\n\u001b[1;32m    162\u001b[0m     \u001b[1;32mdef\u001b[0m \u001b[0mconnect\u001b[0m\u001b[1;33m(\u001b[0m\u001b[0mself\u001b[0m\u001b[1;33m)\u001b[0m\u001b[1;33m:\u001b[0m\u001b[1;33m\u001b[0m\u001b[0m\n\u001b[0;32m--> 163\u001b[0;31m         \u001b[0mconn\u001b[0m \u001b[1;33m=\u001b[0m \u001b[0mself\u001b[0m\u001b[1;33m.\u001b[0m\u001b[0m_new_conn\u001b[0m\u001b[1;33m(\u001b[0m\u001b[1;33m)\u001b[0m\u001b[1;33m\u001b[0m\u001b[0m\n\u001b[0m\u001b[1;32m    164\u001b[0m         \u001b[0mself\u001b[0m\u001b[1;33m.\u001b[0m\u001b[0m_prepare_conn\u001b[0m\u001b[1;33m(\u001b[0m\u001b[0mconn\u001b[0m\u001b[1;33m)\u001b[0m\u001b[1;33m\u001b[0m\u001b[0m\n",
      "\u001b[0;32mC:\\ProgramData\\Anaconda3\\lib\\site-packages\\requests\\packages\\urllib3\\connection.py\u001b[0m in \u001b[0;36m_new_conn\u001b[0;34m(self)\u001b[0m\n\u001b[1;32m    146\u001b[0m             raise NewConnectionError(\n\u001b[0;32m--> 147\u001b[0;31m                 self, \"Failed to establish a new connection: %s\" % e)\n\u001b[0m\u001b[1;32m    148\u001b[0m \u001b[1;33m\u001b[0m\u001b[0m\n",
      "\u001b[0;31mNewConnectionError\u001b[0m: <requests.packages.urllib3.connection.HTTPConnection object at 0x0000000008D187B8>: Failed to establish a new connection: [WinError 10060] A connection attempt failed because the connected party did not properly respond after a period of time, or established connection failed because connected host has failed to respond",
      "\nDuring handling of the above exception, another exception occurred:\n",
      "\u001b[0;31mMaxRetryError\u001b[0m                             Traceback (most recent call last)",
      "\u001b[0;32mC:\\ProgramData\\Anaconda3\\lib\\site-packages\\requests\\adapters.py\u001b[0m in \u001b[0;36msend\u001b[0;34m(self, request, stream, timeout, verify, cert, proxies)\u001b[0m\n\u001b[1;32m    422\u001b[0m                     \u001b[0mretries\u001b[0m\u001b[1;33m=\u001b[0m\u001b[0mself\u001b[0m\u001b[1;33m.\u001b[0m\u001b[0mmax_retries\u001b[0m\u001b[1;33m,\u001b[0m\u001b[1;33m\u001b[0m\u001b[0m\n\u001b[0;32m--> 423\u001b[0;31m                     \u001b[0mtimeout\u001b[0m\u001b[1;33m=\u001b[0m\u001b[0mtimeout\u001b[0m\u001b[1;33m\u001b[0m\u001b[0m\n\u001b[0m\u001b[1;32m    424\u001b[0m                 )\n",
      "\u001b[0;32mC:\\ProgramData\\Anaconda3\\lib\\site-packages\\requests\\packages\\urllib3\\connectionpool.py\u001b[0m in \u001b[0;36murlopen\u001b[0;34m(self, method, url, body, headers, retries, redirect, assert_same_host, timeout, pool_timeout, release_conn, chunked, **response_kw)\u001b[0m\n\u001b[1;32m    642\u001b[0m             retries = retries.increment(method, url, error=e, _pool=self,\n\u001b[0;32m--> 643\u001b[0;31m                                         _stacktrace=sys.exc_info()[2])\n\u001b[0m\u001b[1;32m    644\u001b[0m             \u001b[0mretries\u001b[0m\u001b[1;33m.\u001b[0m\u001b[0msleep\u001b[0m\u001b[1;33m(\u001b[0m\u001b[1;33m)\u001b[0m\u001b[1;33m\u001b[0m\u001b[0m\n",
      "\u001b[0;32mC:\\ProgramData\\Anaconda3\\lib\\site-packages\\requests\\packages\\urllib3\\util\\retry.py\u001b[0m in \u001b[0;36mincrement\u001b[0;34m(self, method, url, response, error, _pool, _stacktrace)\u001b[0m\n\u001b[1;32m    362\u001b[0m         \u001b[1;32mif\u001b[0m \u001b[0mnew_retry\u001b[0m\u001b[1;33m.\u001b[0m\u001b[0mis_exhausted\u001b[0m\u001b[1;33m(\u001b[0m\u001b[1;33m)\u001b[0m\u001b[1;33m:\u001b[0m\u001b[1;33m\u001b[0m\u001b[0m\n\u001b[0;32m--> 363\u001b[0;31m             \u001b[1;32mraise\u001b[0m \u001b[0mMaxRetryError\u001b[0m\u001b[1;33m(\u001b[0m\u001b[0m_pool\u001b[0m\u001b[1;33m,\u001b[0m \u001b[0murl\u001b[0m\u001b[1;33m,\u001b[0m \u001b[0merror\u001b[0m \u001b[1;32mor\u001b[0m \u001b[0mResponseError\u001b[0m\u001b[1;33m(\u001b[0m\u001b[0mcause\u001b[0m\u001b[1;33m)\u001b[0m\u001b[1;33m)\u001b[0m\u001b[1;33m\u001b[0m\u001b[0m\n\u001b[0m\u001b[1;32m    364\u001b[0m \u001b[1;33m\u001b[0m\u001b[0m\n",
      "\u001b[0;31mMaxRetryError\u001b[0m: HTTPConnectionPool(host='192.168.1.1', port=80): Max retries exceeded with url: /api/v2/projects/ (Caused by NewConnectionError('<requests.packages.urllib3.connection.HTTPConnection object at 0x0000000008D187B8>: Failed to establish a new connection: [WinError 10060] A connection attempt failed because the connected party did not properly respond after a period of time, or established connection failed because connected host has failed to respond',))",
      "\nDuring handling of the above exception, another exception occurred:\n",
      "\u001b[0;31mConnectionError\u001b[0m                           Traceback (most recent call last)",
      "\u001b[0;32m<ipython-input-3-537e8d215e1e>\u001b[0m in \u001b[0;36m<module>\u001b[0;34m()\u001b[0m\n\u001b[1;32m      2\u001b[0m \u001b[1;31m#dr.Client(token='DVcolsRAsDy2LENNLdjzjNxFUufNMgAx', endpoint = 'http://192.168.1.1/api/v2')\u001b[0m\u001b[1;33m\u001b[0m\u001b[1;33m\u001b[0m\u001b[0m\n\u001b[1;32m      3\u001b[0m project = dr.Project.create('/Users/Torque/Desktop/Logan_Departures_2013.csv',\n\u001b[0;32m----> 4\u001b[0;31m                          project_name='Logan Boston example AD ')\n\u001b[0m\u001b[1;32m      5\u001b[0m \u001b[0mproject\u001b[0m\u001b[1;33m.\u001b[0m\u001b[0mid\u001b[0m\u001b[1;33m\u001b[0m\u001b[0m\n",
      "\u001b[0;32mC:\\ProgramData\\Anaconda3\\lib\\site-packages\\datarobot\\models\\project.py\u001b[0m in \u001b[0;36mcreate\u001b[0;34m(cls, sourcedata, project_name, max_wait, read_timeout)\u001b[0m\n\u001b[1;32m    253\u001b[0m             \u001b[0mform_data\u001b[0m\u001b[1;33m,\u001b[0m\u001b[1;33m\u001b[0m\u001b[0m\n\u001b[1;32m    254\u001b[0m             \u001b[0mmax_wait\u001b[0m\u001b[1;33m=\u001b[0m\u001b[0mmax_wait\u001b[0m\u001b[1;33m,\u001b[0m\u001b[1;33m\u001b[0m\u001b[0m\n\u001b[0;32m--> 255\u001b[0;31m             \u001b[0mread_timeout\u001b[0m\u001b[1;33m=\u001b[0m\u001b[0mread_timeout\u001b[0m\u001b[1;33m\u001b[0m\u001b[0m\n\u001b[0m\u001b[1;32m    256\u001b[0m         )\n\u001b[1;32m    257\u001b[0m \u001b[1;33m\u001b[0m\u001b[0m\n",
      "\u001b[0;32mC:\\ProgramData\\Anaconda3\\lib\\site-packages\\datarobot\\models\\project.py\u001b[0m in \u001b[0;36m_create_project_with_form_data\u001b[0;34m(cls, sourcedata, form_data, max_wait, read_timeout)\u001b[0m\n\u001b[1;32m    562\u001b[0m                 \u001b[0mmethod\u001b[0m\u001b[1;33m=\u001b[0m\u001b[1;34m'post'\u001b[0m\u001b[1;33m,\u001b[0m\u001b[1;33m\u001b[0m\u001b[0m\n\u001b[1;32m    563\u001b[0m                 \u001b[0mread_timeout\u001b[0m\u001b[1;33m=\u001b[0m\u001b[0mread_timeout\u001b[0m\u001b[1;33m,\u001b[0m\u001b[1;33m\u001b[0m\u001b[0m\n\u001b[0;32m--> 564\u001b[0;31m                 **filesource_kwargs)\n\u001b[0m\u001b[1;32m    565\u001b[0m \u001b[1;33m\u001b[0m\u001b[0m\n\u001b[1;32m    566\u001b[0m         \u001b[0masync_location\u001b[0m \u001b[1;33m=\u001b[0m \u001b[0minitial_project_post_response\u001b[0m\u001b[1;33m.\u001b[0m\u001b[0mheaders\u001b[0m\u001b[1;33m[\u001b[0m\u001b[1;34m'Location'\u001b[0m\u001b[1;33m]\u001b[0m\u001b[1;33m\u001b[0m\u001b[0m\n",
      "\u001b[0;32mC:\\ProgramData\\Anaconda3\\lib\\site-packages\\datarobot\\rest.py\u001b[0m in \u001b[0;36mbuild_request_with_file\u001b[0;34m(self, method, url, fname, form_data, content, file_path, filelike, read_timeout)\u001b[0m\n\u001b[1;32m    153\u001b[0m         \u001b[0mheaders\u001b[0m \u001b[1;33m=\u001b[0m \u001b[1;33m{\u001b[0m\u001b[1;34m'Content-Type'\u001b[0m\u001b[1;33m:\u001b[0m \u001b[0mencoder\u001b[0m\u001b[1;33m.\u001b[0m\u001b[0mcontent_type\u001b[0m\u001b[1;33m}\u001b[0m\u001b[1;33m\u001b[0m\u001b[0m\n\u001b[1;32m    154\u001b[0m         return self.request(method, url, headers=headers, data=encoder,\n\u001b[0;32m--> 155\u001b[0;31m                             timeout=(self.connect_timeout, read_timeout))\n\u001b[0m\u001b[1;32m    156\u001b[0m \u001b[1;33m\u001b[0m\u001b[0m\n\u001b[1;32m    157\u001b[0m \u001b[1;33m\u001b[0m\u001b[0m\n",
      "\u001b[0;32mC:\\ProgramData\\Anaconda3\\lib\\site-packages\\datarobot\\rest.py\u001b[0m in \u001b[0;36mrequest\u001b[0;34m(self, method, url, join_endpoint, **kwargs)\u001b[0m\n\u001b[1;32m     65\u001b[0m         \u001b[1;32mif\u001b[0m \u001b[1;32mnot\u001b[0m \u001b[0murl\u001b[0m\u001b[1;33m.\u001b[0m\u001b[0mstartswith\u001b[0m\u001b[1;33m(\u001b[0m\u001b[1;34m'http'\u001b[0m\u001b[1;33m)\u001b[0m \u001b[1;32mor\u001b[0m \u001b[0mjoin_endpoint\u001b[0m\u001b[1;33m:\u001b[0m\u001b[1;33m\u001b[0m\u001b[0m\n\u001b[1;32m     66\u001b[0m             \u001b[0murl\u001b[0m \u001b[1;33m=\u001b[0m \u001b[0mself\u001b[0m\u001b[1;33m.\u001b[0m\u001b[0m_join_endpoint\u001b[0m\u001b[1;33m(\u001b[0m\u001b[0murl\u001b[0m\u001b[1;33m)\u001b[0m\u001b[1;33m\u001b[0m\u001b[0m\n\u001b[0;32m---> 67\u001b[0;31m         \u001b[0mresponse\u001b[0m \u001b[1;33m=\u001b[0m \u001b[0msuper\u001b[0m\u001b[1;33m(\u001b[0m\u001b[0mRESTClientObject\u001b[0m\u001b[1;33m,\u001b[0m \u001b[0mself\u001b[0m\u001b[1;33m)\u001b[0m\u001b[1;33m.\u001b[0m\u001b[0mrequest\u001b[0m\u001b[1;33m(\u001b[0m\u001b[0mmethod\u001b[0m\u001b[1;33m,\u001b[0m \u001b[0murl\u001b[0m\u001b[1;33m,\u001b[0m \u001b[1;33m**\u001b[0m\u001b[0mkwargs\u001b[0m\u001b[1;33m)\u001b[0m\u001b[1;33m\u001b[0m\u001b[0m\n\u001b[0m\u001b[1;32m     68\u001b[0m         \u001b[1;32mif\u001b[0m \u001b[1;32mnot\u001b[0m \u001b[0mresponse\u001b[0m\u001b[1;33m:\u001b[0m\u001b[1;33m\u001b[0m\u001b[0m\n\u001b[1;32m     69\u001b[0m             \u001b[0mhandle_http_error\u001b[0m\u001b[1;33m(\u001b[0m\u001b[0mresponse\u001b[0m\u001b[1;33m)\u001b[0m\u001b[1;33m\u001b[0m\u001b[0m\n",
      "\u001b[0;32mC:\\ProgramData\\Anaconda3\\lib\\site-packages\\requests\\sessions.py\u001b[0m in \u001b[0;36mrequest\u001b[0;34m(self, method, url, params, data, headers, cookies, files, auth, timeout, allow_redirects, proxies, hooks, stream, verify, cert, json)\u001b[0m\n\u001b[1;32m    486\u001b[0m         }\n\u001b[1;32m    487\u001b[0m         \u001b[0msend_kwargs\u001b[0m\u001b[1;33m.\u001b[0m\u001b[0mupdate\u001b[0m\u001b[1;33m(\u001b[0m\u001b[0msettings\u001b[0m\u001b[1;33m)\u001b[0m\u001b[1;33m\u001b[0m\u001b[0m\n\u001b[0;32m--> 488\u001b[0;31m         \u001b[0mresp\u001b[0m \u001b[1;33m=\u001b[0m \u001b[0mself\u001b[0m\u001b[1;33m.\u001b[0m\u001b[0msend\u001b[0m\u001b[1;33m(\u001b[0m\u001b[0mprep\u001b[0m\u001b[1;33m,\u001b[0m \u001b[1;33m**\u001b[0m\u001b[0msend_kwargs\u001b[0m\u001b[1;33m)\u001b[0m\u001b[1;33m\u001b[0m\u001b[0m\n\u001b[0m\u001b[1;32m    489\u001b[0m \u001b[1;33m\u001b[0m\u001b[0m\n\u001b[1;32m    490\u001b[0m         \u001b[1;32mreturn\u001b[0m \u001b[0mresp\u001b[0m\u001b[1;33m\u001b[0m\u001b[0m\n",
      "\u001b[0;32mC:\\ProgramData\\Anaconda3\\lib\\site-packages\\requests\\sessions.py\u001b[0m in \u001b[0;36msend\u001b[0;34m(self, request, **kwargs)\u001b[0m\n\u001b[1;32m    607\u001b[0m \u001b[1;33m\u001b[0m\u001b[0m\n\u001b[1;32m    608\u001b[0m         \u001b[1;31m# Send the request\u001b[0m\u001b[1;33m\u001b[0m\u001b[1;33m\u001b[0m\u001b[0m\n\u001b[0;32m--> 609\u001b[0;31m         \u001b[0mr\u001b[0m \u001b[1;33m=\u001b[0m \u001b[0madapter\u001b[0m\u001b[1;33m.\u001b[0m\u001b[0msend\u001b[0m\u001b[1;33m(\u001b[0m\u001b[0mrequest\u001b[0m\u001b[1;33m,\u001b[0m \u001b[1;33m**\u001b[0m\u001b[0mkwargs\u001b[0m\u001b[1;33m)\u001b[0m\u001b[1;33m\u001b[0m\u001b[0m\n\u001b[0m\u001b[1;32m    610\u001b[0m \u001b[1;33m\u001b[0m\u001b[0m\n\u001b[1;32m    611\u001b[0m         \u001b[1;31m# Total elapsed time of the request (approximately)\u001b[0m\u001b[1;33m\u001b[0m\u001b[1;33m\u001b[0m\u001b[0m\n",
      "\u001b[0;32mC:\\ProgramData\\Anaconda3\\lib\\site-packages\\requests\\adapters.py\u001b[0m in \u001b[0;36msend\u001b[0;34m(self, request, stream, timeout, verify, cert, proxies)\u001b[0m\n\u001b[1;32m    485\u001b[0m                 \u001b[1;32mraise\u001b[0m \u001b[0mProxyError\u001b[0m\u001b[1;33m(\u001b[0m\u001b[0me\u001b[0m\u001b[1;33m,\u001b[0m \u001b[0mrequest\u001b[0m\u001b[1;33m=\u001b[0m\u001b[0mrequest\u001b[0m\u001b[1;33m)\u001b[0m\u001b[1;33m\u001b[0m\u001b[0m\n\u001b[1;32m    486\u001b[0m \u001b[1;33m\u001b[0m\u001b[0m\n\u001b[0;32m--> 487\u001b[0;31m             \u001b[1;32mraise\u001b[0m \u001b[0mConnectionError\u001b[0m\u001b[1;33m(\u001b[0m\u001b[0me\u001b[0m\u001b[1;33m,\u001b[0m \u001b[0mrequest\u001b[0m\u001b[1;33m=\u001b[0m\u001b[0mrequest\u001b[0m\u001b[1;33m)\u001b[0m\u001b[1;33m\u001b[0m\u001b[0m\n\u001b[0m\u001b[1;32m    488\u001b[0m \u001b[1;33m\u001b[0m\u001b[0m\n\u001b[1;32m    489\u001b[0m         \u001b[1;32mexcept\u001b[0m \u001b[0mClosedPoolError\u001b[0m \u001b[1;32mas\u001b[0m \u001b[0me\u001b[0m\u001b[1;33m:\u001b[0m\u001b[1;33m\u001b[0m\u001b[0m\n",
      "\u001b[0;31mConnectionError\u001b[0m: HTTPConnectionPool(host='192.168.1.1', port=80): Max retries exceeded with url: /api/v2/projects/ (Caused by NewConnectionError('<requests.packages.urllib3.connection.HTTPConnection object at 0x0000000008D187B8>: Failed to establish a new connection: [WinError 10060] A connection attempt failed because the connected party did not properly respond after a period of time, or established connection failed because connected host has failed to respond',))"
     ]
    }
   ],
   "source": [
    "#import datarobot as dr\n",
    "#dr.Client(token='DVcolsRAsDy2LENNLdjzjNxFUufNMgAx', endpoint = 'http://192.168.101/api/v2')\n",
    "project = dr.Project.create('/Users/Torque/Desktop/Logan_Departures_2013.csv',\n",
    "                         project_name='Logan Boston example AD ')\n",
    "project.id"
   ]
  },
  {
   "cell_type": "code",
   "execution_count": 10,
   "metadata": {
    "collapsed": false
   },
   "outputs": [
    {
     "data": {
      "text/html": [
       "<div>\n",
       "<table border=\"1\" class=\"dataframe\">\n",
       "  <thead>\n",
       "    <tr style=\"text-align: right;\">\n",
       "      <th></th>\n",
       "      <th>Carrier Code</th>\n",
       "      <th>was_delayed</th>\n",
       "      <th>Date</th>\n",
       "      <th>Flight Number</th>\n",
       "      <th>Tail Number</th>\n",
       "      <th>Destination Airport</th>\n",
       "      <th>Scheduled elapsed time (Minutes)</th>\n",
       "      <th>Actual elapsed time (Minutes)</th>\n",
       "      <th>Departure delay (Minutes)</th>\n",
       "      <th>Taxi-Out time (Minutes)</th>\n",
       "      <th>Delay Carrier (Minutes)</th>\n",
       "      <th>Delay Weather (Minutes)</th>\n",
       "      <th>Delay National Aviation System (Minutes)</th>\n",
       "      <th>Delay Security (Minutes)</th>\n",
       "      <th>Delay Late Aircraft Arrival (Minutes)</th>\n",
       "    </tr>\n",
       "  </thead>\n",
       "  <tbody>\n",
       "    <tr>\n",
       "      <th>0</th>\n",
       "      <td>US</td>\n",
       "      <td>1</td>\n",
       "      <td>1/01/2013</td>\n",
       "      <td>225</td>\n",
       "      <td>N650AW</td>\n",
       "      <td>PHX</td>\n",
       "      <td>352</td>\n",
       "      <td>338</td>\n",
       "      <td>32</td>\n",
       "      <td>16</td>\n",
       "      <td>1</td>\n",
       "      <td>0</td>\n",
       "      <td>0</td>\n",
       "      <td>0</td>\n",
       "      <td>17</td>\n",
       "    </tr>\n",
       "    <tr>\n",
       "      <th>1</th>\n",
       "      <td>US</td>\n",
       "      <td>0</td>\n",
       "      <td>1/01/2013</td>\n",
       "      <td>280</td>\n",
       "      <td>N806AW</td>\n",
       "      <td>PHX</td>\n",
       "      <td>369</td>\n",
       "      <td>384</td>\n",
       "      <td>-3</td>\n",
       "      <td>14</td>\n",
       "      <td>0</td>\n",
       "      <td>0</td>\n",
       "      <td>0</td>\n",
       "      <td>0</td>\n",
       "      <td>0</td>\n",
       "    </tr>\n",
       "    <tr>\n",
       "      <th>2</th>\n",
       "      <td>US</td>\n",
       "      <td>0</td>\n",
       "      <td>1/01/2013</td>\n",
       "      <td>303</td>\n",
       "      <td>N656AW</td>\n",
       "      <td>CLT</td>\n",
       "      <td>143</td>\n",
       "      <td>148</td>\n",
       "      <td>0</td>\n",
       "      <td>16</td>\n",
       "      <td>0</td>\n",
       "      <td>0</td>\n",
       "      <td>0</td>\n",
       "      <td>0</td>\n",
       "      <td>0</td>\n",
       "    </tr>\n",
       "    <tr>\n",
       "      <th>3</th>\n",
       "      <td>US</td>\n",
       "      <td>0</td>\n",
       "      <td>1/01/2013</td>\n",
       "      <td>417</td>\n",
       "      <td>N673AW</td>\n",
       "      <td>PHX</td>\n",
       "      <td>355</td>\n",
       "      <td>338</td>\n",
       "      <td>-5</td>\n",
       "      <td>12</td>\n",
       "      <td>0</td>\n",
       "      <td>0</td>\n",
       "      <td>0</td>\n",
       "      <td>0</td>\n",
       "      <td>0</td>\n",
       "    </tr>\n",
       "    <tr>\n",
       "      <th>4</th>\n",
       "      <td>US</td>\n",
       "      <td>0</td>\n",
       "      <td>1/01/2013</td>\n",
       "      <td>604</td>\n",
       "      <td>N662AW</td>\n",
       "      <td>PHX</td>\n",
       "      <td>351</td>\n",
       "      <td>369</td>\n",
       "      <td>-5</td>\n",
       "      <td>15</td>\n",
       "      <td>0</td>\n",
       "      <td>0</td>\n",
       "      <td>0</td>\n",
       "      <td>0</td>\n",
       "      <td>0</td>\n",
       "    </tr>\n",
       "  </tbody>\n",
       "</table>\n",
       "</div>"
      ],
      "text/plain": [
       "  Carrier Code  was_delayed       Date  Flight Number Tail Number  \\\n",
       "0           US            1  1/01/2013            225      N650AW   \n",
       "1           US            0  1/01/2013            280      N806AW   \n",
       "2           US            0  1/01/2013            303      N656AW   \n",
       "3           US            0  1/01/2013            417      N673AW   \n",
       "4           US            0  1/01/2013            604      N662AW   \n",
       "\n",
       "  Destination Airport  Scheduled elapsed time (Minutes)  \\\n",
       "0                 PHX                               352   \n",
       "1                 PHX                               369   \n",
       "2                 CLT                               143   \n",
       "3                 PHX                               355   \n",
       "4                 PHX                               351   \n",
       "\n",
       "   Actual elapsed time (Minutes)  Departure delay (Minutes)  \\\n",
       "0                            338                         32   \n",
       "1                            384                         -3   \n",
       "2                            148                          0   \n",
       "3                            338                         -5   \n",
       "4                            369                         -5   \n",
       "\n",
       "   Taxi-Out time (Minutes)  Delay Carrier (Minutes)  Delay Weather (Minutes)  \\\n",
       "0                       16                        1                        0   \n",
       "1                       14                        0                        0   \n",
       "2                       16                        0                        0   \n",
       "3                       12                        0                        0   \n",
       "4                       15                        0                        0   \n",
       "\n",
       "   Delay National Aviation System (Minutes)  Delay Security (Minutes)  \\\n",
       "0                                         0                         0   \n",
       "1                                         0                         0   \n",
       "2                                         0                         0   \n",
       "3                                         0                         0   \n",
       "4                                         0                         0   \n",
       "\n",
       "   Delay Late Aircraft Arrival (Minutes)  \n",
       "0                                     17  \n",
       "1                                      0  \n",
       "2                                      0  \n",
       "3                                      0  \n",
       "4                                      0  "
      ]
     },
     "execution_count": 10,
     "metadata": {},
     "output_type": "execute_result"
    }
   ],
   "source": [
    "import pandas as pd\n",
    "data_path=\"/Users/Torque/Desktop/Logan_Departures_2013.csv\"\n",
    "logan_2013=pd.read_csv(data_path)\n",
    "logan_2013.head()"
   ]
  },
  {
   "cell_type": "code",
   "execution_count": null,
   "metadata": {
    "collapsed": true
   },
   "outputs": [],
   "source": []
  },
  {
   "cell_type": "code",
   "execution_count": 3,
   "metadata": {
    "collapsed": true
   },
   "outputs": [],
   "source": [
    "target_name = 'was_delayed'"
   ]
  },
  {
   "cell_type": "code",
   "execution_count": 4,
   "metadata": {
    "collapsed": false
   },
   "outputs": [
    {
     "data": {
      "text/plain": [
       "True"
      ]
     },
     "execution_count": 4,
     "metadata": {},
     "output_type": "execute_result"
    }
   ],
   "source": [
    "project.open_leaderboard_browser()"
   ]
  },
  {
   "cell_type": "code",
   "execution_count": 5,
   "metadata": {
    "collapsed": false
   },
   "outputs": [
    {
     "data": {
      "text/plain": [
       "Project(Logan Boston example )"
      ]
     },
     "execution_count": 5,
     "metadata": {},
     "output_type": "execute_result"
    }
   ],
   "source": [
    "project.set_worker_count(10)"
   ]
  },
  {
   "cell_type": "code",
   "execution_count": 6,
   "metadata": {
    "collapsed": false
   },
   "outputs": [
    {
     "data": {
      "text/plain": [
       "Project(Logan Boston example )"
      ]
     },
     "execution_count": 6,
     "metadata": {},
     "output_type": "execute_result"
    }
   ],
   "source": [
    "project.set_target(target='was_delayed',\n",
    "                   mode=dr.AUTOPILOT_MODE.FULL_AUTO)"
   ]
  },
  {
   "cell_type": "code",
   "execution_count": 7,
   "metadata": {
    "collapsed": false
   },
   "outputs": [
    {
     "data": {
      "text/plain": [
       "True"
      ]
     },
     "execution_count": 7,
     "metadata": {},
     "output_type": "execute_result"
    }
   ],
   "source": [
    "project.pause_autopilot()"
   ]
  },
  {
   "cell_type": "code",
   "execution_count": 8,
   "metadata": {
    "collapsed": false
   },
   "outputs": [
    {
     "data": {
      "text/plain": [
       "[ModelJob(TensorFlow Neural Network Classifier, status=inprogress),\n",
       " ModelJob(Breiman and Cutler Random Forest Classifier, status=queue),\n",
       " ModelJob(RuleFit Classifier, status=queue),\n",
       " ModelJob(Regularized Logistic Regression (L2), status=queue),\n",
       " ModelJob(Elastic-Net Classifier (L2 / Binomial Deviance), status=queue),\n",
       " ModelJob(RandomForest Classifier (Gini), status=queue),\n",
       " ModelJob(eXtreme Gradient Boosted Trees Classifier with Early Stopping, status=queue),\n",
       " ModelJob(Nystroem Kernel SVM Classifier, status=queue),\n",
       " ModelJob(Regularized Logistic Regression (L2), status=queue),\n",
       " ModelJob(Elastic-Net Classifier (L2 / Binomial Deviance) with Binned numeric features, status=queue),\n",
       " ModelJob(Elastic-Net Classifier (mixing alpha=0.5 / Binomial Deviance), status=queue),\n",
       " ModelJob(Stochastic Gradient Descent Classifier, status=queue),\n",
       " ModelJob(RandomForest Classifier (Entropy), status=queue),\n",
       " ModelJob(ExtraTrees Classifier (Gini), status=queue),\n",
       " ModelJob(Gradient Boosted Trees Classifier with Early Stopping, status=queue),\n",
       " ModelJob(Gradient Boosted Greedy Trees Classifier with Early Stopping, status=queue),\n",
       " ModelJob(eXtreme Gradient Boosted Trees Classifier with Early Stopping, status=queue),\n",
       " ModelJob(eXtreme Gradient Boosted Trees Classifier with Early Stopping and Unsupervised Learning Features, status=queue),\n",
       " ModelJob(Elastic-Net Classifier (mixing alpha=0.5 / Binomial Deviance) with Unsupervised Learning Features, status=queue),\n",
       " ModelJob(Vowpal Wabbit Classifier, status=queue),\n",
       " ModelJob(Gradient Boosted Trees Classifier, status=inprogress)]"
      ]
     },
     "execution_count": 8,
     "metadata": {},
     "output_type": "execute_result"
    }
   ],
   "source": [
    "project.get_model_jobs()"
   ]
  },
  {
   "cell_type": "code",
   "execution_count": 9,
   "metadata": {
    "collapsed": false
   },
   "outputs": [
    {
     "data": {
      "text/plain": [
       "True"
      ]
     },
     "execution_count": 9,
     "metadata": {},
     "output_type": "execute_result"
    }
   ],
   "source": [
    "project.unpause_autopilot()"
   ]
  },
  {
   "cell_type": "code",
   "execution_count": 10,
   "metadata": {
    "collapsed": false
   },
   "outputs": [
    {
     "data": {
      "text/plain": [
       "[Feature(Date (Day of Week)),\n",
       " Feature(Destination Airport),\n",
       " Feature(Carrier Code),\n",
       " Feature(Actual elapsed time (Minutes)),\n",
       " Feature(Delay Security (Minutes)),\n",
       " Feature(Tail Number),\n",
       " Feature(Date (Day of Month)),\n",
       " Feature(Scheduled elapsed time (Minutes)),\n",
       " Feature(Delay Late Aircraft Arrival (Minutes)),\n",
       " Feature(Delay Weather (Minutes)),\n",
       " Feature(Flight Number),\n",
       " Feature(Delay National Aviation System (Minutes)),\n",
       " Feature(Taxi_Out time (Minutes)),\n",
       " Feature(Date),\n",
       " Feature(Delay Carrier (Minutes)),\n",
       " Feature(was_delayed),\n",
       " Feature(Departure delay (Minutes))]"
      ]
     },
     "execution_count": 10,
     "metadata": {},
     "output_type": "execute_result"
    }
   ],
   "source": [
    "features=project.get_features()\n",
    "features"
   ]
  },
  {
   "cell_type": "code",
   "execution_count": 11,
   "metadata": {
    "collapsed": false
   },
   "outputs": [
    {
     "data": {
      "text/html": [
       "<div>\n",
       "<table border=\"1\" class=\"dataframe\">\n",
       "  <thead>\n",
       "    <tr style=\"text-align: right;\">\n",
       "      <th></th>\n",
       "      <th>date_format</th>\n",
       "      <th>feature_type</th>\n",
       "      <th>id</th>\n",
       "      <th>importance</th>\n",
       "      <th>low_information</th>\n",
       "      <th>na_count</th>\n",
       "      <th>name</th>\n",
       "      <th>project_id</th>\n",
       "      <th>unique_count</th>\n",
       "    </tr>\n",
       "  </thead>\n",
       "  <tbody>\n",
       "    <tr>\n",
       "      <th>0</th>\n",
       "      <td>None</td>\n",
       "      <td>Categorical</td>\n",
       "      <td>16</td>\n",
       "      <td>0.003051</td>\n",
       "      <td>True</td>\n",
       "      <td>0</td>\n",
       "      <td>Date (Day of Week)</td>\n",
       "      <td>59435b4f5fd03000517a921a</td>\n",
       "      <td>7</td>\n",
       "    </tr>\n",
       "    <tr>\n",
       "      <th>1</th>\n",
       "      <td>None</td>\n",
       "      <td>Categorical</td>\n",
       "      <td>5</td>\n",
       "      <td>0.003244</td>\n",
       "      <td>True</td>\n",
       "      <td>0</td>\n",
       "      <td>Destination Airport</td>\n",
       "      <td>59435b4f5fd03000517a921a</td>\n",
       "      <td>6</td>\n",
       "    </tr>\n",
       "    <tr>\n",
       "      <th>2</th>\n",
       "      <td>None</td>\n",
       "      <td>Categorical</td>\n",
       "      <td>0</td>\n",
       "      <td>NaN</td>\n",
       "      <td>True</td>\n",
       "      <td>0</td>\n",
       "      <td>Carrier Code</td>\n",
       "      <td>59435b4f5fd03000517a921a</td>\n",
       "      <td>1</td>\n",
       "    </tr>\n",
       "    <tr>\n",
       "      <th>3</th>\n",
       "      <td>None</td>\n",
       "      <td>Numeric</td>\n",
       "      <td>7</td>\n",
       "      <td>0.010067</td>\n",
       "      <td>False</td>\n",
       "      <td>0</td>\n",
       "      <td>Actual elapsed time (Minutes)</td>\n",
       "      <td>59435b4f5fd03000517a921a</td>\n",
       "      <td>297</td>\n",
       "    </tr>\n",
       "    <tr>\n",
       "      <th>4</th>\n",
       "      <td>None</td>\n",
       "      <td>Numeric</td>\n",
       "      <td>13</td>\n",
       "      <td>NaN</td>\n",
       "      <td>True</td>\n",
       "      <td>0</td>\n",
       "      <td>Delay Security (Minutes)</td>\n",
       "      <td>59435b4f5fd03000517a921a</td>\n",
       "      <td>8</td>\n",
       "    </tr>\n",
       "    <tr>\n",
       "      <th>5</th>\n",
       "      <td>None</td>\n",
       "      <td>Categorical</td>\n",
       "      <td>4</td>\n",
       "      <td>0.002017</td>\n",
       "      <td>True</td>\n",
       "      <td>0</td>\n",
       "      <td>Tail Number</td>\n",
       "      <td>59435b4f5fd03000517a921a</td>\n",
       "      <td>332</td>\n",
       "    </tr>\n",
       "    <tr>\n",
       "      <th>6</th>\n",
       "      <td>None</td>\n",
       "      <td>Numeric</td>\n",
       "      <td>15</td>\n",
       "      <td>0.001901</td>\n",
       "      <td>True</td>\n",
       "      <td>0</td>\n",
       "      <td>Date (Day of Month)</td>\n",
       "      <td>59435b4f5fd03000517a921a</td>\n",
       "      <td>31</td>\n",
       "    </tr>\n",
       "    <tr>\n",
       "      <th>7</th>\n",
       "      <td>None</td>\n",
       "      <td>Numeric</td>\n",
       "      <td>6</td>\n",
       "      <td>0.001935</td>\n",
       "      <td>True</td>\n",
       "      <td>0</td>\n",
       "      <td>Scheduled elapsed time (Minutes)</td>\n",
       "      <td>59435b4f5fd03000517a921a</td>\n",
       "      <td>98</td>\n",
       "    </tr>\n",
       "    <tr>\n",
       "      <th>8</th>\n",
       "      <td>None</td>\n",
       "      <td>Numeric</td>\n",
       "      <td>14</td>\n",
       "      <td>0.220571</td>\n",
       "      <td>False</td>\n",
       "      <td>0</td>\n",
       "      <td>Delay Late Aircraft Arrival (Minutes)</td>\n",
       "      <td>59435b4f5fd03000517a921a</td>\n",
       "      <td>151</td>\n",
       "    </tr>\n",
       "    <tr>\n",
       "      <th>9</th>\n",
       "      <td>None</td>\n",
       "      <td>Numeric</td>\n",
       "      <td>11</td>\n",
       "      <td>0.040925</td>\n",
       "      <td>False</td>\n",
       "      <td>0</td>\n",
       "      <td>Delay Weather (Minutes)</td>\n",
       "      <td>59435b4f5fd03000517a921a</td>\n",
       "      <td>92</td>\n",
       "    </tr>\n",
       "    <tr>\n",
       "      <th>10</th>\n",
       "      <td>None</td>\n",
       "      <td>Numeric</td>\n",
       "      <td>3</td>\n",
       "      <td>0.008206</td>\n",
       "      <td>False</td>\n",
       "      <td>0</td>\n",
       "      <td>Flight Number</td>\n",
       "      <td>59435b4f5fd03000517a921a</td>\n",
       "      <td>466</td>\n",
       "    </tr>\n",
       "    <tr>\n",
       "      <th>11</th>\n",
       "      <td>None</td>\n",
       "      <td>Numeric</td>\n",
       "      <td>12</td>\n",
       "      <td>0.137888</td>\n",
       "      <td>False</td>\n",
       "      <td>0</td>\n",
       "      <td>Delay National Aviation System (Minutes)</td>\n",
       "      <td>59435b4f5fd03000517a921a</td>\n",
       "      <td>191</td>\n",
       "    </tr>\n",
       "    <tr>\n",
       "      <th>12</th>\n",
       "      <td>None</td>\n",
       "      <td>Numeric</td>\n",
       "      <td>9</td>\n",
       "      <td>0.013619</td>\n",
       "      <td>False</td>\n",
       "      <td>0</td>\n",
       "      <td>Taxi_Out time (Minutes)</td>\n",
       "      <td>59435b4f5fd03000517a921a</td>\n",
       "      <td>133</td>\n",
       "    </tr>\n",
       "    <tr>\n",
       "      <th>13</th>\n",
       "      <td>%m/%d/%Y</td>\n",
       "      <td>Date</td>\n",
       "      <td>2</td>\n",
       "      <td>0.001914</td>\n",
       "      <td>True</td>\n",
       "      <td>0</td>\n",
       "      <td>Date</td>\n",
       "      <td>59435b4f5fd03000517a921a</td>\n",
       "      <td>730</td>\n",
       "    </tr>\n",
       "    <tr>\n",
       "      <th>14</th>\n",
       "      <td>None</td>\n",
       "      <td>Numeric</td>\n",
       "      <td>10</td>\n",
       "      <td>0.169732</td>\n",
       "      <td>False</td>\n",
       "      <td>0</td>\n",
       "      <td>Delay Carrier (Minutes)</td>\n",
       "      <td>59435b4f5fd03000517a921a</td>\n",
       "      <td>141</td>\n",
       "    </tr>\n",
       "    <tr>\n",
       "      <th>15</th>\n",
       "      <td>None</td>\n",
       "      <td>Numeric</td>\n",
       "      <td>1</td>\n",
       "      <td>1.000000</td>\n",
       "      <td>False</td>\n",
       "      <td>0</td>\n",
       "      <td>was_delayed</td>\n",
       "      <td>59435b4f5fd03000517a921a</td>\n",
       "      <td>2</td>\n",
       "    </tr>\n",
       "    <tr>\n",
       "      <th>16</th>\n",
       "      <td>None</td>\n",
       "      <td>Numeric</td>\n",
       "      <td>8</td>\n",
       "      <td>0.929430</td>\n",
       "      <td>False</td>\n",
       "      <td>0</td>\n",
       "      <td>Departure delay (Minutes)</td>\n",
       "      <td>59435b4f5fd03000517a921a</td>\n",
       "      <td>238</td>\n",
       "    </tr>\n",
       "  </tbody>\n",
       "</table>\n",
       "</div>"
      ],
      "text/plain": [
       "   date_format feature_type  id  importance low_information  na_count  \\\n",
       "0         None  Categorical  16    0.003051            True         0   \n",
       "1         None  Categorical   5    0.003244            True         0   \n",
       "2         None  Categorical   0         NaN            True         0   \n",
       "3         None      Numeric   7    0.010067           False         0   \n",
       "4         None      Numeric  13         NaN            True         0   \n",
       "5         None  Categorical   4    0.002017            True         0   \n",
       "6         None      Numeric  15    0.001901            True         0   \n",
       "7         None      Numeric   6    0.001935            True         0   \n",
       "8         None      Numeric  14    0.220571           False         0   \n",
       "9         None      Numeric  11    0.040925           False         0   \n",
       "10        None      Numeric   3    0.008206           False         0   \n",
       "11        None      Numeric  12    0.137888           False         0   \n",
       "12        None      Numeric   9    0.013619           False         0   \n",
       "13    %m/%d/%Y         Date   2    0.001914            True         0   \n",
       "14        None      Numeric  10    0.169732           False         0   \n",
       "15        None      Numeric   1    1.000000           False         0   \n",
       "16        None      Numeric   8    0.929430           False         0   \n",
       "\n",
       "                                        name                project_id  \\\n",
       "0                         Date (Day of Week)  59435b4f5fd03000517a921a   \n",
       "1                        Destination Airport  59435b4f5fd03000517a921a   \n",
       "2                               Carrier Code  59435b4f5fd03000517a921a   \n",
       "3              Actual elapsed time (Minutes)  59435b4f5fd03000517a921a   \n",
       "4                   Delay Security (Minutes)  59435b4f5fd03000517a921a   \n",
       "5                                Tail Number  59435b4f5fd03000517a921a   \n",
       "6                        Date (Day of Month)  59435b4f5fd03000517a921a   \n",
       "7           Scheduled elapsed time (Minutes)  59435b4f5fd03000517a921a   \n",
       "8      Delay Late Aircraft Arrival (Minutes)  59435b4f5fd03000517a921a   \n",
       "9                    Delay Weather (Minutes)  59435b4f5fd03000517a921a   \n",
       "10                             Flight Number  59435b4f5fd03000517a921a   \n",
       "11  Delay National Aviation System (Minutes)  59435b4f5fd03000517a921a   \n",
       "12                   Taxi_Out time (Minutes)  59435b4f5fd03000517a921a   \n",
       "13                                      Date  59435b4f5fd03000517a921a   \n",
       "14                   Delay Carrier (Minutes)  59435b4f5fd03000517a921a   \n",
       "15                               was_delayed  59435b4f5fd03000517a921a   \n",
       "16                 Departure delay (Minutes)  59435b4f5fd03000517a921a   \n",
       "\n",
       "    unique_count  \n",
       "0              7  \n",
       "1              6  \n",
       "2              1  \n",
       "3            297  \n",
       "4              8  \n",
       "5            332  \n",
       "6             31  \n",
       "7             98  \n",
       "8            151  \n",
       "9             92  \n",
       "10           466  \n",
       "11           191  \n",
       "12           133  \n",
       "13           730  \n",
       "14           141  \n",
       "15             2  \n",
       "16           238  "
      ]
     },
     "execution_count": 11,
     "metadata": {},
     "output_type": "execute_result"
    }
   ],
   "source": [
    "pd.DataFrame([f.__dict__ for f in features])"
   ]
  },
  {
   "cell_type": "code",
   "execution_count": 12,
   "metadata": {
    "collapsed": false
   },
   "outputs": [
    {
     "data": {
      "text/plain": [
       "[Featurelist(Raw Features),\n",
       " Featurelist(Informative Features),\n",
       " Featurelist(Univariate Selections)]"
      ]
     },
     "execution_count": 12,
     "metadata": {},
     "output_type": "execute_result"
    }
   ],
   "source": [
    "feature_lists=project.get_featurelists()\n",
    "feature_lists"
   ]
  },
  {
   "cell_type": "code",
   "execution_count": 13,
   "metadata": {
    "collapsed": false
   },
   "outputs": [
    {
     "data": {
      "text/plain": [
       "{'autopilot_done': False,\n",
       " 'stage': 'modeling',\n",
       " 'stage_description': 'Ready for modeling'}"
      ]
     },
     "execution_count": 13,
     "metadata": {},
     "output_type": "execute_result"
    }
   ],
   "source": [
    "project.get_status()"
   ]
  },
  {
   "cell_type": "code",
   "execution_count": 14,
   "metadata": {
    "collapsed": false
   },
   "outputs": [
    {
     "name": "stdout",
     "output_type": "stream",
     "text": [
      "In progress: 7, queued: 11 (waited: 0s)\n",
      "In progress: 7, queued: 11 (waited: 2s)\n",
      "In progress: 7, queued: 10 (waited: 2s)\n",
      "In progress: 7, queued: 9 (waited: 3s)\n",
      "In progress: 7, queued: 8 (waited: 4s)\n",
      "In progress: 7, queued: 8 (waited: 5s)\n",
      "In progress: 7, queued: 7 (waited: 9s)\n",
      "In progress: 7, queued: 3 (waited: 15s)\n",
      "In progress: 5, queued: 0 (waited: 28s)\n",
      "In progress: 7, queued: 9 (waited: 54s)\n",
      "In progress: 1, queued: 0 (waited: 105s)\n",
      "In progress: 7, queued: 20 (waited: 195s)\n",
      "In progress: 5, queued: 0 (waited: 285s)\n",
      "In progress: 0, queued: 0 (waited: 375s)\n"
     ]
    }
   ],
   "source": [
    "project.wait_for_autopilot(check_interval=90)"
   ]
  },
  {
   "cell_type": "code",
   "execution_count": 15,
   "metadata": {
    "collapsed": false
   },
   "outputs": [
    {
     "data": {
      "text/plain": [
       "Model('Gradient Boosted Greedy Trees Classifier with Early Stopping')"
      ]
     },
     "execution_count": 15,
     "metadata": {},
     "output_type": "execute_result"
    }
   ],
   "source": [
    "models=project.get_models()\n",
    "example_model=models[15]\n",
    "example_model"
   ]
  },
  {
   "cell_type": "code",
   "execution_count": 16,
   "metadata": {
    "collapsed": false
   },
   "outputs": [
    {
     "data": {
      "text/plain": [
       "{'AUC': {'backtesting': None,\n",
       "  'backtestingScores': None,\n",
       "  'crossValidation': 1.0,\n",
       "  'holdout': None,\n",
       "  'validation': 1.0},\n",
       " 'FVE Binomial': {'backtesting': None,\n",
       "  'backtestingScores': None,\n",
       "  'crossValidation': 0.999662,\n",
       "  'holdout': None,\n",
       "  'validation': 0.99966},\n",
       " 'Gini Norm': {'backtesting': None,\n",
       "  'backtestingScores': None,\n",
       "  'crossValidation': 1.0,\n",
       "  'holdout': None,\n",
       "  'validation': 1.0},\n",
       " 'LogLoss': {'backtesting': None,\n",
       "  'backtestingScores': None,\n",
       "  'crossValidation': 0.00011,\n",
       "  'holdout': None,\n",
       "  'validation': 0.00011},\n",
       " 'RMSE': {'backtesting': None,\n",
       "  'backtestingScores': None,\n",
       "  'crossValidation': 0.000308,\n",
       "  'holdout': None,\n",
       "  'validation': 0.00031},\n",
       " 'Rate@Top10%': {'backtesting': None,\n",
       "  'backtestingScores': None,\n",
       "  'crossValidation': 0.99626,\n",
       "  'holdout': None,\n",
       "  'validation': 0.9966},\n",
       " 'Rate@Top5%': {'backtesting': None,\n",
       "  'backtestingScores': None,\n",
       "  'crossValidation': 1.0,\n",
       "  'holdout': None,\n",
       "  'validation': 1.0},\n",
       " 'Rate@TopTenth%': {'backtesting': None,\n",
       "  'backtestingScores': None,\n",
       "  'crossValidation': 1.0,\n",
       "  'holdout': None,\n",
       "  'validation': 1.0}}"
      ]
     },
     "execution_count": 16,
     "metadata": {},
     "output_type": "execute_result"
    }
   ],
   "source": [
    "example_model.metrics"
   ]
  },
  {
   "cell_type": "code",
   "execution_count": 17,
   "metadata": {
    "collapsed": true
   },
   "outputs": [],
   "source": [
    "def sorted_by_log_loss(models,test_set):\n",
    "    models_with_score=[model for model in models if\n",
    "                      model.metrics['LogLoss'][test_set] is not None]\n",
    "    return sorted(models_with_score,\n",
    "                 key=lambda model: model.metrics['LogLoss'][test_set])"
   ]
  },
  {
   "cell_type": "code",
   "execution_count": 27,
   "metadata": {
    "collapsed": false
   },
   "outputs": [],
   "source": [
    "informative_feats=[lst for lst in feature_lists if\n",
    "                   lst.name=='Informative Features'][0]\n",
    "no_foreknowledge1_features=list(\n",
    "        set(informative_feats.features)-{'Departure delay (Minute)'})\n",
    "\n"
   ]
  },
  {
   "cell_type": "code",
   "execution_count": 30,
   "metadata": {
    "collapsed": false
   },
   "outputs": [
    {
     "data": {
      "text/plain": [
       "Featurelist(no foreknowledge2)"
      ]
     },
     "execution_count": 30,
     "metadata": {},
     "output_type": "execute_result"
    }
   ],
   "source": [
    "no_foreknowledge2=project.create_featurelist('no foreknowledge2',no_foreknowledge1_features)\n",
    "no_foreknowledge2"
   ]
  },
  {
   "cell_type": "code",
   "execution_count": 31,
   "metadata": {
    "collapsed": false
   },
   "outputs": [
    {
     "data": {
      "text/plain": [
       "[]"
      ]
     },
     "execution_count": 31,
     "metadata": {},
     "output_type": "execute_result"
    }
   ],
   "source": [
    "models=project.get_models()\n",
    "fair_models=[mod for mod in models if\n",
    "            mod.featurelist_id == no_foreknowledge2.id]\n",
    "fair_models"
   ]
  },
  {
   "cell_type": "code",
   "execution_count": 32,
   "metadata": {
    "collapsed": false
   },
   "outputs": [
    {
     "ename": "IndexError",
     "evalue": "list index out of range",
     "output_type": "error",
     "traceback": [
      "\u001b[0;31m---------------------------------------------------------------------------\u001b[0m",
      "\u001b[0;31mIndexError\u001b[0m                                Traceback (most recent call last)",
      "\u001b[0;32m<ipython-input-32-7911c64d3bbd>\u001b[0m in \u001b[0;36m<module>\u001b[0;34m()\u001b[0m\n\u001b[0;32m----> 1\u001b[0;31m \u001b[0mbest_fair_model\u001b[0m\u001b[0;34m=\u001b[0m\u001b[0msorted_by_log_loss\u001b[0m\u001b[0;34m(\u001b[0m\u001b[0mfair_models\u001b[0m\u001b[0;34m,\u001b[0m\u001b[0;34m'crossValidation'\u001b[0m\u001b[0;34m)\u001b[0m\u001b[0;34m[\u001b[0m\u001b[0;36m0\u001b[0m\u001b[0;34m]\u001b[0m\u001b[0;34m\u001b[0m\u001b[0m\n\u001b[0m\u001b[1;32m      2\u001b[0m \u001b[0mbest_fair_model\u001b[0m\u001b[0;34m.\u001b[0m\u001b[0mmetrics\u001b[0m\u001b[0;34m\u001b[0m\u001b[0m\n",
      "\u001b[0;31mIndexError\u001b[0m: list index out of range"
     ]
    }
   ],
   "source": [
    "best_fair_model=sorted_by_log_loss(fair_models,'crossValidation')[0]\n",
    "best_fair_model.metrics"
   ]
  },
  {
   "cell_type": "code",
   "execution_count": 77,
   "metadata": {
    "collapsed": false
   },
   "outputs": [
    {
     "ename": "NameError",
     "evalue": "name 'best_fair_model' is not defined",
     "output_type": "error",
     "traceback": [
      "\u001b[0;31m---------------------------------------------------------------------------\u001b[0m",
      "\u001b[0;31mNameError\u001b[0m                                 Traceback (most recent call last)",
      "\u001b[0;32m<ipython-input-77-86fd2d59b755>\u001b[0m in \u001b[0;36m<module>\u001b[0;34m()\u001b[0m\n\u001b[0;32m----> 1\u001b[0;31m \u001b[0mbest_fair_model\u001b[0m\u001b[0;34m.\u001b[0m\u001b[0mopen_model_browser\u001b[0m\u001b[0;34m(\u001b[0m\u001b[0;34m)\u001b[0m\u001b[0;34m\u001b[0m\u001b[0m\n\u001b[0m",
      "\u001b[0;31mNameError\u001b[0m: name 'best_fair_model' is not defined"
     ]
    }
   ],
   "source": [
    "best_fair_model.open_model_browser()\n"
   ]
  },
  {
   "cell_type": "code",
   "execution_count": null,
   "metadata": {
    "collapsed": true
   },
   "outputs": [],
   "source": [
    "project.unlock_holdout()"
   ]
  },
  {
   "cell_type": "code",
   "execution_count": null,
   "metadata": {
    "collapsed": true
   },
   "outputs": [],
   "source": [
    "best_fair_model=dr.Model.get(project.id,best_fair_model.id)"
   ]
  },
  {
   "cell_type": "code",
   "execution_count": 15,
   "metadata": {
    "collapsed": false
   },
   "outputs": [],
   "source": [
    "best_fair_modle.metrics['LogLoss']"
   ]
  },
  {
   "cell_type": "code",
   "execution_count": 5,
   "metadata": {
    "collapsed": false
   },
   "outputs": [
    {
     "data": {
      "text/plain": [
       "{'available_metrics': ['LogLoss',\n",
       "  'Weighted LogLoss',\n",
       "  'AUC',\n",
       "  'Weighted FVE Binomial',\n",
       "  'FVE Binomial',\n",
       "  'Weighted AUC',\n",
       "  'Rate@Top5%',\n",
       "  'Rate@Top10%',\n",
       "  'RMSE',\n",
       "  'Weighted RMSE',\n",
       "  'Weighted Rate@Top10%',\n",
       "  'Weighted Rate@Top5%',\n",
       "  'Gini Norm',\n",
       "  'Weighted Gini Norm'],\n",
       " 'feature_name': 'Was_delayed'}"
      ]
     },
     "execution_count": 5,
     "metadata": {},
     "output_type": "execute_result"
    }
   ],
   "source": [
    "#target_name = 'was_delayed'\n",
    "project.get_metrics(target_name)"
   ]
  },
  {
   "cell_type": "code",
   "execution_count": null,
   "metadata": {
    "collapsed": true
   },
   "outputs": [],
   "source": [
    "model_job_fair_100pct_id=best_fair_modle.train(sample_pct=100)"
   ]
  },
  {
   "cell_type": "code",
   "execution_count": null,
   "metadata": {
    "collapsed": true
   },
   "outputs": [],
   "source": [
    "nodel_fair_100pct=dr.models.modeljob.wait_for_async_model_creation(\n",
    "    project.id, model_job_fair_100pct_id)"
   ]
  },
  {
   "cell_type": "code",
   "execution_count": null,
   "metadata": {
    "collapsed": true
   },
   "outputs": [],
   "source": [
    "data_path=\"/Users/datarobotpoc/Desktop/Logan_Departures_2.csv\"\n",
    "logan_2014=pd.read_csv(data_path)\n",
    "logan_2014.head()"
   ]
  },
  {
   "cell_type": "code",
   "execution_count": null,
   "metadata": {
    "collapsed": true
   },
   "outputs": [],
   "source": [
    "prediction_dateset=project.upload.dataset(logan_2014)\n",
    "predict_job=model_fair_100pct.request_predictions(prediction_dataset.id)"
   ]
  },
  {
   "cell_type": "code",
   "execution_count": null,
   "metadata": {
    "collapsed": true
   },
   "outputs": [],
   "source": [
    "predictions=prediction_job.get_result_when_complete()"
   ]
  },
  {
   "cell_type": "code",
   "execution_count": null,
   "metadata": {
    "collapsed": true
   },
   "outputs": [],
   "source": [
    "pd.concat([logan_2014,predictions],axis=1).head()"
   ]
  }
 ],
 "metadata": {
  "anaconda-cloud": {},
  "kernelspec": {
   "display_name": "Python 3",
   "language": "python",
   "name": "python3"
  },
  "language_info": {
   "codemirror_mode": {
    "name": "ipython",
    "version": 3
   },
   "file_extension": ".py",
   "mimetype": "text/x-python",
   "name": "python",
   "nbconvert_exporter": "python",
   "pygments_lexer": "ipython3",
   "version": "3.6.0"
  }
 },
 "nbformat": 4,
 "nbformat_minor": 1
}
