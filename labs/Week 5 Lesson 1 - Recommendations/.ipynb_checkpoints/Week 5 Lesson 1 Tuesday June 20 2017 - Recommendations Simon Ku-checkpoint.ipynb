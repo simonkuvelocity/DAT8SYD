{
 "cells": [
  {
   "cell_type": "markdown",
   "metadata": {},
   "source": [
    "# Recommendation Engines - MovieLens Data\n",
    "\n",
    "## Tuesday June 20 2017\n",
    "\n",
    "MovieLens data sets were collected by the GroupLens Research Project at the University of Minnesota.\n",
    "\n",
    "This data set consists of: * 100,000 ratings (1-5) from 943 users on 1682 movies. * Each user has rated at least 20 movies. * Simple demographic info for the users (age, gender, occupation, zip)\n",
    "\n",
    "The data was collected through the MovieLens web site (movielens.umn.edu) during the seven-month period from September 19th, 1997 through April 22nd, 1998. This data has been cleaned up - users who had less than 20 ratings or did not have complete demographic information were removed from this data set. Detailed descriptions of the data file can be found at the end of this file.\n",
    "\n",
    "### Tasks\n",
    "\n",
    "1. Load the data into the recommendation format\n",
    "2. Build and assess model accuracy\n",
    "3. Make individual recommendations\n",
    "4. Try multiple models and compare accuracy\n",
    "5. Consider how a company could use this"
   ]
  },
  {
   "cell_type": "code",
   "execution_count": null,
   "metadata": {
    "collapsed": false
   },
   "outputs": [],
   "source": [
    "# Install Surpise - a useful library for recommendation engines\n",
    "!pip install scikit-surprise"
   ]
  },
  {
   "cell_type": "code",
   "execution_count": 1,
   "metadata": {
    "collapsed": false
   },
   "outputs": [],
   "source": [
    "# Load Surprise\n",
    "from surprise import SVD\n",
    "from surprise import Dataset\n",
    "from surprise import evaluate, print_perf\n",
    "from surprise import Reader"
   ]
  },
  {
   "cell_type": "code",
   "execution_count": 2,
   "metadata": {
    "collapsed": false
   },
   "outputs": [],
   "source": [
    "from surprise import Dataset"
   ]
  },
  {
   "cell_type": "code",
   "execution_count": 3,
   "metadata": {
    "collapsed": false
   },
   "outputs": [],
   "source": [
    "# 1. Load the data into the recommendation format\n",
    "\n",
    "# As we're loading a custom dataset, we need to define a reader. In the\n",
    "# movielens dataset, each line has the following format:\n",
    "# 'user item rating timestamp', separated by '\\t' characters.\n",
    "reader = Reader(line_format='user item rating timestamp', sep='\\t')\n",
    "\n",
    "data = Dataset.load_from_file(file_path = '../../data/u.data', reader=reader)\n",
    "data.split(n_folds=5)"
   ]
  },
  {
   "cell_type": "code",
   "execution_count": 4,
   "metadata": {
    "collapsed": false
   },
   "outputs": [
    {
     "name": "stdout",
     "output_type": "stream",
     "text": [
      "Evaluating RMSE, MAE of algorithm SVD.\n",
      "\n",
      "------------\n",
      "Fold 1\n",
      "RMSE: 0.9369\n",
      "MAE:  0.7389\n",
      "------------\n",
      "Fold 2\n",
      "RMSE: 0.9325\n",
      "MAE:  0.7353\n",
      "------------\n",
      "Fold 3\n",
      "RMSE: 0.9365\n",
      "MAE:  0.7383\n",
      "------------\n",
      "Fold 4\n",
      "RMSE: 0.9401\n",
      "MAE:  0.7385\n",
      "------------\n",
      "Fold 5\n",
      "RMSE: 0.9368\n",
      "MAE:  0.7416\n",
      "------------\n",
      "------------\n",
      "Mean RMSE: 0.9366\n",
      "Mean MAE : 0.7385\n",
      "------------\n",
      "------------\n",
      "        Fold 1  Fold 2  Fold 3  Fold 4  Fold 5  Mean    \n",
      "RMSE    0.9369  0.9325  0.9365  0.9401  0.9368  0.9366  \n",
      "MAE     0.7389  0.7353  0.7383  0.7385  0.7416  0.7385  \n"
     ]
    }
   ],
   "source": [
    "# 2. Build and assess model accuracy\n",
    "\n",
    "# We'll use the famous SVD algorithm.\n",
    "algo = SVD()\n",
    "\n",
    "# Evaluate performances of our algorithm on the dataset.\n",
    "perf = evaluate(algo, data, measures=['RMSE', 'MAE'])\n",
    "\n",
    "print_perf(perf)"
   ]
  },
  {
   "cell_type": "code",
   "execution_count": 5,
   "metadata": {
    "collapsed": false
   },
   "outputs": [
    {
     "name": "stdout",
     "output_type": "stream",
     "text": [
      "user: 196        item: 302        r_ui = 2.00   est = 4.37   {'was_impossible': False}\n"
     ]
    }
   ],
   "source": [
    "# 3. Make individual recommendations\n",
    "uid = str(196)  # raw user id (as in the ratings file). They are **strings**!\n",
    "iid = str(302)  # raw item id (as in the ratings file). They are **strings**!\n",
    "\n",
    "# get a prediction for specific users and items.\n",
    "pred = algo.predict(uid, iid, r_ui=2, verbose=True)"
   ]
  },
  {
   "cell_type": "code",
   "execution_count": 9,
   "metadata": {
    "collapsed": false
   },
   "outputs": [
    {
     "name": "stdout",
     "output_type": "stream",
     "text": [
      "Evaluating RMSE, MAE of algorithm NMF.\n",
      "\n",
      "------------\n",
      "Fold 1\n",
      "RMSE: 0.9637\n",
      "MAE:  0.7560\n",
      "------------\n",
      "Fold 2\n",
      "RMSE: 0.9647\n",
      "MAE:  0.7581\n",
      "------------\n",
      "Fold 3\n",
      "RMSE: 0.9675\n",
      "MAE:  0.7611\n",
      "------------\n",
      "Fold 4\n",
      "RMSE: 0.9613\n",
      "MAE:  0.7530\n",
      "------------\n",
      "Fold 5\n",
      "RMSE: 0.9658\n",
      "MAE:  0.7620\n",
      "------------\n",
      "------------\n",
      "Mean RMSE: 0.9646\n",
      "Mean MAE : 0.7580\n",
      "------------\n",
      "------------\n",
      "        Fold 1  Fold 2  Fold 3  Fold 4  Fold 5  Mean    \n",
      "RMSE    0.9637  0.9647  0.9675  0.9613  0.9658  0.9646  \n",
      "MAE     0.7560  0.7581  0.7611  0.7530  0.7620  0.7580  \n"
     ]
    }
   ],
   "source": [
    "# 4. Try multiple models and compare accuracy\n",
    "\n",
    "# Try at least 3 of the models mentioned below:\n",
    "#random_pred.NormalPredictor    Algorithm predicting a random rating based on the distribution of the training set, which is assumed to be normal.\n",
    "#baseline_only.BaselineOnly    Algorithm predicting the baseline estimate for given user and item.\n",
    "#knns.KNNBasic    A basic collaborative filtering algorithm.\n",
    "#knns.KNNWithMeans    A basic collaborative filtering algorithm, taking into account the mean ratings of each user.\n",
    "#knns.KNNBaseline    A basic collaborative filtering algorithm taking into account a baseline rating.\n",
    "#matrix_factorization.SVD    The famous SVD algorithm, as popularized by Simon Funk during the Netflix Prize.\n",
    "#matrix_factorization.SVDpp    The SVD++ algorithm, an extension of SVD taking into account implicit ratings.\n",
    "#matrix_factorization.NMF    A collaborative filtering algorithm based on Non-negative Matrix Factorization.\n",
    "#slope_one.SlopeOne    A simple yet accurate collaborative filtering algorithm.\n",
    "#co_clustering.CoClustering    A collaborative filtering algorithm based on co-clustering.\n",
    "\n",
    "\n",
    "# Here's how to run Non-Negative Matrix Factorisiation\n",
    "from surprise import NMF\n",
    "\n",
    "# Now we will try Non-Negative Matrix Factorisiation (a form of collaborative filtering)\n",
    "algo.NMF = NMF()\n",
    "\n",
    "# Evaluate performances of our algorithm on the dataset.\n",
    "perf.NMF = evaluate(algo.NMF, data, measures=['RMSE', 'MAE'])\n",
    "\n",
    "print_perf(perf.NMF)"
   ]
  },
  {
   "cell_type": "code",
   "execution_count": 17,
   "metadata": {
    "collapsed": false
   },
   "outputs": [
    {
     "name": "stdout",
     "output_type": "stream",
     "text": [
      "Evaluating RMSE, MAE of algorithm NormalPredictor.\n",
      "\n",
      "------------\n",
      "Fold 1\n",
      "RMSE: 1.5228\n",
      "MAE:  1.2232\n",
      "------------\n",
      "Fold 2\n",
      "RMSE: 1.5113\n",
      "MAE:  1.2117\n",
      "------------\n",
      "Fold 3\n",
      "RMSE: 1.5166\n",
      "MAE:  1.2160\n",
      "------------\n",
      "Fold 4\n",
      "RMSE: 1.5099\n",
      "MAE:  1.2108\n",
      "------------\n",
      "Fold 5\n",
      "RMSE: 1.5107\n",
      "MAE:  1.2166\n",
      "------------\n",
      "------------\n",
      "Mean RMSE: 1.5143\n",
      "Mean MAE : 1.2157\n",
      "------------\n",
      "------------\n",
      "        Fold 1  Fold 2  Fold 3  Fold 4  Fold 5  Mean    \n",
      "RMSE    1.5228  1.5113  1.5166  1.5099  1.5107  1.5143  \n",
      "MAE     1.2232  1.2117  1.2160  1.2108  1.2166  1.2157  \n"
     ]
    }
   ],
   "source": [
    "from surprise import NormalPredictor\n",
    "algo.NormalPredictor = NormalPredictor()\n",
    "perf.NormalPredictor = evaluate(algo.NormalPredictor, data, measures=['RMSE', 'MAE'])\n",
    "print_perf(perf.NormalPredictor)"
   ]
  },
  {
   "cell_type": "code",
   "execution_count": 16,
   "metadata": {
    "collapsed": false
   },
   "outputs": [
    {
     "name": "stdout",
     "output_type": "stream",
     "text": [
      "Evaluating RMSE, MAE of algorithm BaselineOnly.\n",
      "\n",
      "------------\n",
      "Fold 1\n",
      "Estimating biases using als...\n",
      "RMSE: 0.9447\n",
      "MAE:  0.7489\n",
      "------------\n",
      "Fold 2\n",
      "Estimating biases using als...\n",
      "RMSE: 0.9423\n",
      "MAE:  0.7461\n",
      "------------\n",
      "Fold 3\n",
      "Estimating biases using als...\n",
      "RMSE: 0.9461\n",
      "MAE:  0.7505\n",
      "------------\n",
      "Fold 4\n",
      "Estimating biases using als...\n",
      "RMSE: 0.9439\n",
      "MAE:  0.7451\n",
      "------------\n",
      "Fold 5\n",
      "Estimating biases using als...\n",
      "RMSE: 0.9445\n",
      "MAE:  0.7521\n",
      "------------\n",
      "------------\n",
      "Mean RMSE: 0.9443\n",
      "Mean MAE : 0.7486\n",
      "------------\n",
      "------------\n",
      "        Fold 1  Fold 2  Fold 3  Fold 4  Fold 5  Mean    \n",
      "RMSE    0.9447  0.9423  0.9461  0.9439  0.9445  0.9443  \n",
      "MAE     0.7489  0.7461  0.7505  0.7451  0.7521  0.7486  \n"
     ]
    }
   ],
   "source": [
    "from surprise import BaselineOnly\n",
    "algo.BaselineOnly = BaselineOnly()\n",
    "perf.BaselineOnly = evaluate(algo.BaselineOnly, data, measures=['RMSE', 'MAE'])\n",
    "print_perf(perf.BaselineOnly)"
   ]
  },
  {
   "cell_type": "code",
   "execution_count": 15,
   "metadata": {
    "collapsed": false
   },
   "outputs": [
    {
     "name": "stdout",
     "output_type": "stream",
     "text": [
      "Evaluating RMSE, MAE of algorithm KNNBasic.\n",
      "\n",
      "------------\n",
      "Fold 1\n",
      "Computing the msd similarity matrix...\n",
      "Done computing similarity matrix.\n",
      "RMSE: 0.9797\n",
      "MAE:  0.7723\n",
      "------------\n",
      "Fold 2\n",
      "Computing the msd similarity matrix...\n",
      "Done computing similarity matrix.\n",
      "RMSE: 0.9794\n",
      "MAE:  0.7741\n",
      "------------\n",
      "Fold 3\n",
      "Computing the msd similarity matrix...\n",
      "Done computing similarity matrix.\n",
      "RMSE: 0.9819\n",
      "MAE:  0.7747\n",
      "------------\n",
      "Fold 4\n",
      "Computing the msd similarity matrix...\n",
      "Done computing similarity matrix.\n",
      "RMSE: 0.9804\n",
      "MAE:  0.7708\n",
      "------------\n",
      "Fold 5\n",
      "Computing the msd similarity matrix...\n",
      "Done computing similarity matrix.\n",
      "RMSE: 0.9757\n",
      "MAE:  0.7745\n",
      "------------\n",
      "------------\n",
      "Mean RMSE: 0.9794\n",
      "Mean MAE : 0.7733\n",
      "------------\n",
      "------------\n",
      "        Fold 1  Fold 2  Fold 3  Fold 4  Fold 5  Mean    \n",
      "RMSE    0.9797  0.9794  0.9819  0.9804  0.9757  0.9794  \n",
      "MAE     0.7723  0.7741  0.7747  0.7708  0.7745  0.7733  \n"
     ]
    }
   ],
   "source": [
    "from surprise import KNNBasic\n",
    "algo.KNNBasic = KNNBasic()\n",
    "perf.KNNBasic = evaluate(algo.KNNBasic, data, measures=['RMSE', 'MAE'])\n",
    "print_perf(perf.KNNBasic)"
   ]
  },
  {
   "cell_type": "code",
   "execution_count": 19,
   "metadata": {
    "collapsed": false
   },
   "outputs": [
    {
     "name": "stdout",
     "output_type": "stream",
     "text": [
      "Evaluating RMSE, MAE, FCP of algorithm KNNWithMeans.\n",
      "\n",
      "------------\n",
      "Fold 1\n",
      "Computing the msd similarity matrix...\n",
      "Done computing similarity matrix.\n",
      "RMSE: 0.9548\n",
      "MAE:  0.7520\n",
      "FCP:  0.7005\n",
      "------------\n",
      "Fold 2\n",
      "Computing the msd similarity matrix...\n",
      "Done computing similarity matrix.\n",
      "RMSE: 0.9480\n",
      "MAE:  0.7467\n",
      "FCP:  0.6986\n",
      "------------\n",
      "Fold 3\n",
      "Computing the msd similarity matrix...\n",
      "Done computing similarity matrix.\n",
      "RMSE: 0.9536\n",
      "MAE:  0.7506\n",
      "FCP:  0.7065\n",
      "------------\n",
      "Fold 4\n",
      "Computing the msd similarity matrix...\n",
      "Done computing similarity matrix.\n",
      "RMSE: 0.9494\n",
      "MAE:  0.7454\n",
      "FCP:  0.7014\n",
      "------------\n",
      "Fold 5\n",
      "Computing the msd similarity matrix...\n",
      "Done computing similarity matrix.\n",
      "RMSE: 0.9517\n",
      "MAE:  0.7528\n",
      "FCP:  0.7071\n",
      "------------\n",
      "------------\n",
      "Mean RMSE: 0.9515\n",
      "Mean MAE : 0.7495\n",
      "Mean FCP : 0.7028\n",
      "------------\n",
      "------------\n",
      "        Fold 1  Fold 2  Fold 3  Fold 4  Fold 5  Mean    \n",
      "RMSE    0.9548  0.9480  0.9536  0.9494  0.9517  0.9515  \n",
      "MAE     0.7520  0.7467  0.7506  0.7454  0.7528  0.7495  \n",
      "FCP     0.7005  0.6986  0.7065  0.7014  0.7071  0.7028  \n"
     ]
    }
   ],
   "source": [
    "from surprise import KNNWithMeans\n",
    "algo.KNNWithMeans = KNNWithMeans()\n",
    "perf.KNNWithMeans = evaluate(algo.KNNWithMeans, data, measures=['RMSE', 'MAE','FCP'])\n",
    "print_perf(perf.KNNWithMeans)"
   ]
  },
  {
   "cell_type": "code",
   "execution_count": 20,
   "metadata": {
    "collapsed": false
   },
   "outputs": [
    {
     "name": "stdout",
     "output_type": "stream",
     "text": [
      "Evaluating RMSE, MAE, FCP of algorithm KNNBaseline.\n",
      "\n",
      "------------\n",
      "Fold 1\n",
      "Estimating biases using als...\n",
      "Computing the msd similarity matrix...\n",
      "Done computing similarity matrix.\n",
      "RMSE: 0.9313\n",
      "MAE:  0.7330\n",
      "FCP:  0.7073\n",
      "------------\n",
      "Fold 2\n",
      "Estimating biases using als...\n",
      "Computing the msd similarity matrix...\n",
      "Done computing similarity matrix.\n",
      "RMSE: 0.9290\n",
      "MAE:  0.7318\n",
      "FCP:  0.7029\n",
      "------------\n",
      "Fold 3\n",
      "Estimating biases using als...\n",
      "Computing the msd similarity matrix...\n",
      "Done computing similarity matrix.\n",
      "RMSE: 0.9329\n",
      "MAE:  0.7339\n",
      "FCP:  0.7096\n",
      "------------\n",
      "Fold 4\n",
      "Estimating biases using als...\n",
      "Computing the msd similarity matrix...\n",
      "Done computing similarity matrix.\n",
      "RMSE: 0.9317\n",
      "MAE:  0.7311\n",
      "FCP:  0.7067\n",
      "------------\n",
      "Fold 5\n",
      "Estimating biases using als...\n",
      "Computing the msd similarity matrix...\n",
      "Done computing similarity matrix.\n",
      "RMSE: 0.9312\n",
      "MAE:  0.7368\n",
      "FCP:  0.7121\n",
      "------------\n",
      "------------\n",
      "Mean RMSE: 0.9312\n",
      "Mean MAE : 0.7333\n",
      "Mean FCP : 0.7077\n",
      "------------\n",
      "------------\n",
      "        Fold 1  Fold 2  Fold 3  Fold 4  Fold 5  Mean    \n",
      "RMSE    0.9313  0.9290  0.9329  0.9317  0.9312  0.9312  \n",
      "MAE     0.7330  0.7318  0.7339  0.7311  0.7368  0.7333  \n",
      "FCP     0.7073  0.7029  0.7096  0.7067  0.7121  0.7077  \n"
     ]
    }
   ],
   "source": [
    "from surprise import KNNBaseline\n",
    "algo.KNNBaseline = KNNBaseline()\n",
    "perf.KNNBaseline = evaluate(algo.KNNBaseline, data, measures=['RMSE', 'MAE','FCP'])\n",
    "print_perf(perf.KNNBaseline)"
   ]
  },
  {
   "cell_type": "code",
   "execution_count": 18,
   "metadata": {
    "collapsed": false
   },
   "outputs": [
    {
     "name": "stdout",
     "output_type": "stream",
     "text": [
      "Evaluating RMSE, MAE of algorithm SVDpp.\n",
      "\n",
      "------------\n",
      "Fold 1\n",
      "RMSE: 0.9213\n",
      "MAE:  0.7229\n",
      "------------\n",
      "Fold 2\n",
      "RMSE: 0.9209\n",
      "MAE:  0.7208\n",
      "------------\n",
      "Fold 3\n",
      "RMSE: 0.9212\n",
      "MAE:  0.7218\n",
      "------------\n",
      "Fold 4\n",
      "RMSE: 0.9219\n",
      "MAE:  0.7213\n",
      "------------\n",
      "Fold 5\n",
      "RMSE: 0.9189\n",
      "MAE:  0.7223\n",
      "------------\n",
      "------------\n",
      "Mean RMSE: 0.9208\n",
      "Mean MAE : 0.7218\n",
      "------------\n",
      "------------\n",
      "        Fold 1  Fold 2  Fold 3  Fold 4  Fold 5  Mean    \n",
      "RMSE    0.9213  0.9209  0.9212  0.9219  0.9189  0.9208  \n",
      "MAE     0.7229  0.7208  0.7218  0.7213  0.7223  0.7218  \n"
     ]
    }
   ],
   "source": [
    "from surprise import SVDpp\n",
    "algo.SVDpp = SVDpp()\n",
    "perf.SVDpp = evaluate(algo.SVDpp, data, measures=['RMSE', 'MAE'])\n",
    "print_perf(perf.SVDpp)"
   ]
  },
  {
   "cell_type": "code",
   "execution_count": 21,
   "metadata": {
    "collapsed": false
   },
   "outputs": [
    {
     "name": "stdout",
     "output_type": "stream",
     "text": [
      "Evaluating RMSE, MAE, FCP of algorithm SlopeOne.\n",
      "\n",
      "------------\n",
      "Fold 1\n",
      "RMSE: 0.9422\n",
      "MAE:  0.7409\n",
      "FCP:  0.6960\n",
      "------------\n",
      "Fold 2\n",
      "RMSE: 0.9464\n",
      "MAE:  0.7426\n",
      "FCP:  0.6883\n",
      "------------\n",
      "Fold 3\n",
      "RMSE: 0.9479\n",
      "MAE:  0.7452\n",
      "FCP:  0.6977\n",
      "------------\n",
      "Fold 4\n",
      "RMSE: 0.9455\n",
      "MAE:  0.7409\n",
      "FCP:  0.6985\n",
      "------------\n",
      "Fold 5\n",
      "RMSE: 0.9455\n",
      "MAE:  0.7460\n",
      "FCP:  0.7059\n",
      "------------\n",
      "------------\n",
      "Mean RMSE: 0.9455\n",
      "Mean MAE : 0.7431\n",
      "Mean FCP : 0.6973\n",
      "------------\n",
      "------------\n",
      "        Fold 1  Fold 2  Fold 3  Fold 4  Fold 5  Mean    \n",
      "RMSE    0.9422  0.9464  0.9479  0.9455  0.9455  0.9455  \n",
      "MAE     0.7409  0.7426  0.7452  0.7409  0.7460  0.7431  \n",
      "FCP     0.6960  0.6883  0.6977  0.6985  0.7059  0.6973  \n"
     ]
    }
   ],
   "source": [
    "from surprise import SlopeOne\n",
    "algo.SlopeOne = SlopeOne()\n",
    "perf.SlopeOne = evaluate(algo.SlopeOne, data, measures=['RMSE', 'MAE','FCP'])\n",
    "print_perf(perf.SlopeOne)"
   ]
  },
  {
   "cell_type": "code",
   "execution_count": 23,
   "metadata": {
    "collapsed": false
   },
   "outputs": [
    {
     "name": "stdout",
     "output_type": "stream",
     "text": [
      "Evaluating RMSE, MAE, FCP of algorithm CoClustering.\n",
      "\n",
      "------------\n",
      "Fold 1\n",
      "RMSE: 0.9756\n",
      "MAE:  0.7652\n",
      "FCP:  0.6846\n",
      "------------\n",
      "Fold 2\n",
      "RMSE: 0.9643\n",
      "MAE:  0.7549\n",
      "FCP:  0.6933\n",
      "------------\n",
      "Fold 3\n",
      "RMSE: 0.9616\n",
      "MAE:  0.7507\n",
      "FCP:  0.6980\n",
      "------------\n",
      "Fold 4\n",
      "RMSE: 0.9675\n",
      "MAE:  0.7555\n",
      "FCP:  0.6900\n",
      "------------\n",
      "Fold 5\n",
      "RMSE: 0.9650\n",
      "MAE:  0.7590\n",
      "FCP:  0.7022\n",
      "------------\n",
      "------------\n",
      "Mean RMSE: 0.9668\n",
      "Mean MAE : 0.7571\n",
      "Mean FCP : 0.6936\n",
      "------------\n",
      "------------\n",
      "        Fold 1  Fold 2  Fold 3  Fold 4  Fold 5  Mean    \n",
      "RMSE    0.9756  0.9643  0.9616  0.9675  0.9650  0.9668  \n",
      "MAE     0.7652  0.7549  0.7507  0.7555  0.7590  0.7571  \n",
      "FCP     0.6846  0.6933  0.6980  0.6900  0.7022  0.6936  \n"
     ]
    }
   ],
   "source": [
    "from surprise import CoClustering\n",
    "algo.CoClustering = CoClustering()\n",
    "perf.CoClustering = evaluate(algo.CoClustering, data, measures=['RMSE', 'MAE','FCP'])\n",
    "print_perf(perf.CoClustering)"
   ]
  },
  {
   "cell_type": "code",
   "execution_count": null,
   "metadata": {
    "collapsed": true
   },
   "outputs": [],
   "source": []
  },
  {
   "cell_type": "code",
   "execution_count": null,
   "metadata": {
    "collapsed": true
   },
   "outputs": [],
   "source": []
  },
  {
   "cell_type": "code",
   "execution_count": null,
   "metadata": {
    "collapsed": false
   },
   "outputs": [],
   "source": []
  },
  {
   "cell_type": "markdown",
   "metadata": {},
   "source": [
    "##### 5. Consider how a company could use this\n",
    "\n",
    "How might a company use a recommendation like this in practice? Write a few paragraphs covering how they could use the above covering:\n",
    "- How the algorithm works?\n",
    "- What data would be used?\n",
    "- How would we know if it's working?\n",
    "- What is the benefit of using an algorithm over this over just recommending the most popular films overall?"
   ]
  }
 ],
 "metadata": {
  "kernelspec": {
   "display_name": "Python 3",
   "language": "python",
   "name": "python3"
  },
  "language_info": {
   "codemirror_mode": {
    "name": "ipython",
    "version": 3
   },
   "file_extension": ".py",
   "mimetype": "text/x-python",
   "name": "python",
   "nbconvert_exporter": "python",
   "pygments_lexer": "ipython3",
   "version": "3.6.0"
  }
 },
 "nbformat": 4,
 "nbformat_minor": 0
}
