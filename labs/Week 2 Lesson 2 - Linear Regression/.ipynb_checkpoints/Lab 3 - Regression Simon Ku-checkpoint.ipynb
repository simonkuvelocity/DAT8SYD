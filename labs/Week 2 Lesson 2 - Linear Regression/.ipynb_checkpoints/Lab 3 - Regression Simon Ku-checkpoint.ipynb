{
 "cells": [
  {
   "cell_type": "markdown",
   "metadata": {},
   "source": [
    "# Data Science Course Week 2 - Lesson 2 \n",
    "# Introduction to Linear Regression\n"
   ]
  },
  {
   "cell_type": "markdown",
   "metadata": {},
   "source": [
    "Regression is the process of learning a mapping from a vector of input data to a quantitative output given a set of observations. For example, coordinates in a room to Wi-Fi signal strength, someone's Body Mass Index to their life expectancy or a stock's performance over the last 5 days to it's value tomorrow.\n",
    "\n",
    "There are numerous methods for addressing this problem, each with their own set of assumptions and behaviour. Some are ideal for tackling large volumes of data while others provide more informative probabilistic outputs.\n",
    "\n",
    "In this lab, we'll focus on Linear Regression; a good point of reference for many other regression techniques and still used widely around the world today due to their simplicity and favourable scaling characteristics."
   ]
  },
  {
   "cell_type": "markdown",
   "metadata": {},
   "source": [
    "We will be using [statsmodels](http://statsmodels.sourceforge.net/devel/examples/notebooks/generated/ols.html) for learning about linear regression. It covers the models better than in scikit when we are learning and want more insights into the model parameters. But we will mainly be using scikit learn for the rest of the course. "
   ]
  },
  {
   "cell_type": "markdown",
   "metadata": {},
   "source": [
    "# Class Workshop"
   ]
  },
  {
   "cell_type": "code",
   "execution_count": 4,
   "metadata": {
    "collapsed": false
   },
   "outputs": [],
   "source": [
    "# Import the libraries required\n",
    "import pandas as pd\n",
    "import statsmodels.formula.api as smf\n",
    "import matplotlib.pyplot as plt\n",
    "import numpy as np\n",
    "\n",
    "# this allows plots to appear directly in the notebook\n",
    "%matplotlib inline"
   ]
  },
  {
   "cell_type": "markdown",
   "metadata": {},
   "source": [
    "Here we are using a dataset of chicago house prices. The dataset is made up of houses that sold and several variables that describe the data. "
   ]
  },
  {
   "cell_type": "code",
   "execution_count": 142,
   "metadata": {
    "collapsed": true
   },
   "outputs": [],
   "source": [
    "# Read in data\n",
    "house_data = pd.read_csv(\"chicagohouseprices2.csv\", index_col=0)"
   ]
  },
  {
   "cell_type": "code",
   "execution_count": 6,
   "metadata": {
    "collapsed": false
   },
   "outputs": [
    {
     "data": {
      "text/html": [
       "<div>\n",
       "<table border=\"1\" class=\"dataframe\">\n",
       "  <thead>\n",
       "    <tr style=\"text-align: right;\">\n",
       "      <th></th>\n",
       "      <th>Address</th>\n",
       "      <th>Neighborhood</th>\n",
       "      <th>HouseType</th>\n",
       "      <th>Price</th>\n",
       "      <th>Bath</th>\n",
       "      <th>CrimeIndex</th>\n",
       "      <th>MinutesToLoop</th>\n",
       "      <th>MilesToLake</th>\n",
       "      <th>Age</th>\n",
       "      <th>LotSizeSqft</th>\n",
       "      <th>HouseSizeSqft</th>\n",
       "      <th>SchoolIndex</th>\n",
       "      <th>EstimatedPrice</th>\n",
       "    </tr>\n",
       "  </thead>\n",
       "  <tbody>\n",
       "    <tr>\n",
       "      <th>0</th>\n",
       "      <td>2111 W Division St #5, Chicago IL</td>\n",
       "      <td>Wicker Park</td>\n",
       "      <td>Condo</td>\n",
       "      <td>390000</td>\n",
       "      <td>NaN</td>\n",
       "      <td>2.59</td>\n",
       "      <td>9</td>\n",
       "      <td>3.91</td>\n",
       "      <td>0</td>\n",
       "      <td>0</td>\n",
       "      <td>0</td>\n",
       "      <td>36.2</td>\n",
       "      <td>335790.0</td>\n",
       "    </tr>\n",
       "    <tr>\n",
       "      <th>1</th>\n",
       "      <td>1520 W Walton St #2, Chicago IL</td>\n",
       "      <td>Wicker Park</td>\n",
       "      <td>Condo</td>\n",
       "      <td>320500</td>\n",
       "      <td>NaN</td>\n",
       "      <td>4.10</td>\n",
       "      <td>7</td>\n",
       "      <td>3.02</td>\n",
       "      <td>0</td>\n",
       "      <td>0</td>\n",
       "      <td>0</td>\n",
       "      <td>91.7</td>\n",
       "      <td>376908.0</td>\n",
       "    </tr>\n",
       "    <tr>\n",
       "      <th>2</th>\n",
       "      <td>2047 W Thomas St, Chicago IL</td>\n",
       "      <td>Wicker Park</td>\n",
       "      <td>Multi-Family Home</td>\n",
       "      <td>620000</td>\n",
       "      <td>4.0</td>\n",
       "      <td>2.09</td>\n",
       "      <td>9</td>\n",
       "      <td>3.84</td>\n",
       "      <td>94</td>\n",
       "      <td>3049</td>\n",
       "      <td>3492</td>\n",
       "      <td>36.2</td>\n",
       "      <td>629300.0</td>\n",
       "    </tr>\n",
       "    <tr>\n",
       "      <th>3</th>\n",
       "      <td>1735 N Paulina St #314, Chicago IL</td>\n",
       "      <td>Wicker Park</td>\n",
       "      <td>Condo</td>\n",
       "      <td>318000</td>\n",
       "      <td>NaN</td>\n",
       "      <td>2.40</td>\n",
       "      <td>9</td>\n",
       "      <td>2.90</td>\n",
       "      <td>0</td>\n",
       "      <td>0</td>\n",
       "      <td>0</td>\n",
       "      <td>50.0</td>\n",
       "      <td>297330.0</td>\n",
       "    </tr>\n",
       "    <tr>\n",
       "      <th>4</th>\n",
       "      <td>1634 W Beach Ave, Chicago IL</td>\n",
       "      <td>Wicker Park</td>\n",
       "      <td>Multi-Family Home</td>\n",
       "      <td>477000</td>\n",
       "      <td>2.0</td>\n",
       "      <td>4.63</td>\n",
       "      <td>9</td>\n",
       "      <td>2.96</td>\n",
       "      <td>31</td>\n",
       "      <td>2614</td>\n",
       "      <td>1840</td>\n",
       "      <td>78.9</td>\n",
       "      <td>463644.0</td>\n",
       "    </tr>\n",
       "  </tbody>\n",
       "</table>\n",
       "</div>"
      ],
      "text/plain": [
       "                              Address Neighborhood          HouseType   Price  \\\n",
       "0   2111 W Division St #5, Chicago IL  Wicker Park              Condo  390000   \n",
       "1     1520 W Walton St #2, Chicago IL  Wicker Park              Condo  320500   \n",
       "2        2047 W Thomas St, Chicago IL  Wicker Park  Multi-Family Home  620000   \n",
       "3  1735 N Paulina St #314, Chicago IL  Wicker Park              Condo  318000   \n",
       "4        1634 W Beach Ave, Chicago IL  Wicker Park  Multi-Family Home  477000   \n",
       "\n",
       "   Bath  CrimeIndex  MinutesToLoop  MilesToLake  Age  LotSizeSqft  \\\n",
       "0   NaN        2.59              9         3.91    0            0   \n",
       "1   NaN        4.10              7         3.02    0            0   \n",
       "2   4.0        2.09              9         3.84   94         3049   \n",
       "3   NaN        2.40              9         2.90    0            0   \n",
       "4   2.0        4.63              9         2.96   31         2614   \n",
       "\n",
       "   HouseSizeSqft  SchoolIndex  EstimatedPrice  \n",
       "0              0         36.2        335790.0  \n",
       "1              0         91.7        376908.0  \n",
       "2           3492         36.2        629300.0  \n",
       "3              0         50.0        297330.0  \n",
       "4           1840         78.9        463644.0  "
      ]
     },
     "execution_count": 6,
     "metadata": {},
     "output_type": "execute_result"
    }
   ],
   "source": [
    "house_data.head()"
   ]
  },
  {
   "cell_type": "code",
   "execution_count": 7,
   "metadata": {
    "collapsed": false
   },
   "outputs": [
    {
     "data": {
      "text/plain": [
       "Address             0\n",
       "Neighborhood        0\n",
       "HouseType           3\n",
       "Price               0\n",
       "Bath              149\n",
       "CrimeIndex          0\n",
       "MinutesToLoop       0\n",
       "MilesToLake         0\n",
       "Age                 0\n",
       "LotSizeSqft         0\n",
       "HouseSizeSqft       0\n",
       "SchoolIndex         0\n",
       "EstimatedPrice      0\n",
       "dtype: int64"
      ]
     },
     "execution_count": 7,
     "metadata": {},
     "output_type": "execute_result"
    }
   ],
   "source": [
    "# do we have any missing data?\n",
    "house_data.isnull().sum() "
   ]
  },
  {
   "cell_type": "code",
   "execution_count": 8,
   "metadata": {
    "collapsed": false
   },
   "outputs": [
    {
     "data": {
      "text/html": [
       "<div>\n",
       "<table border=\"1\" class=\"dataframe\">\n",
       "  <thead>\n",
       "    <tr style=\"text-align: right;\">\n",
       "      <th></th>\n",
       "      <th>Price</th>\n",
       "      <th>Bath</th>\n",
       "      <th>CrimeIndex</th>\n",
       "      <th>MinutesToLoop</th>\n",
       "      <th>MilesToLake</th>\n",
       "      <th>Age</th>\n",
       "      <th>LotSizeSqft</th>\n",
       "      <th>HouseSizeSqft</th>\n",
       "      <th>SchoolIndex</th>\n",
       "      <th>EstimatedPrice</th>\n",
       "    </tr>\n",
       "  </thead>\n",
       "  <tbody>\n",
       "    <tr>\n",
       "      <th>count</th>\n",
       "      <td>2.190000e+02</td>\n",
       "      <td>70.000000</td>\n",
       "      <td>219.000000</td>\n",
       "      <td>219.000000</td>\n",
       "      <td>219.000000</td>\n",
       "      <td>219.000000</td>\n",
       "      <td>219.000000</td>\n",
       "      <td>219.000000</td>\n",
       "      <td>219.000000</td>\n",
       "      <td>2.190000e+02</td>\n",
       "    </tr>\n",
       "    <tr>\n",
       "      <th>mean</th>\n",
       "      <td>4.834311e+05</td>\n",
       "      <td>2.271429</td>\n",
       "      <td>4.663607</td>\n",
       "      <td>9.698630</td>\n",
       "      <td>3.420411</td>\n",
       "      <td>29.424658</td>\n",
       "      <td>873.200913</td>\n",
       "      <td>699.977169</td>\n",
       "      <td>49.197717</td>\n",
       "      <td>4.862191e+05</td>\n",
       "    </tr>\n",
       "    <tr>\n",
       "      <th>std</th>\n",
       "      <td>4.001249e+05</td>\n",
       "      <td>0.883364</td>\n",
       "      <td>1.418146</td>\n",
       "      <td>2.898995</td>\n",
       "      <td>0.352522</td>\n",
       "      <td>49.155880</td>\n",
       "      <td>1392.893683</td>\n",
       "      <td>1175.278922</td>\n",
       "      <td>18.554525</td>\n",
       "      <td>3.978582e+05</td>\n",
       "    </tr>\n",
       "    <tr>\n",
       "      <th>min</th>\n",
       "      <td>2.450000e+04</td>\n",
       "      <td>1.000000</td>\n",
       "      <td>1.090000</td>\n",
       "      <td>6.000000</td>\n",
       "      <td>2.770000</td>\n",
       "      <td>0.000000</td>\n",
       "      <td>0.000000</td>\n",
       "      <td>0.000000</td>\n",
       "      <td>16.700000</td>\n",
       "      <td>2.883650e+04</td>\n",
       "    </tr>\n",
       "    <tr>\n",
       "      <th>25%</th>\n",
       "      <td>3.190000e+05</td>\n",
       "      <td>2.000000</td>\n",
       "      <td>3.940000</td>\n",
       "      <td>8.000000</td>\n",
       "      <td>3.150000</td>\n",
       "      <td>0.000000</td>\n",
       "      <td>0.000000</td>\n",
       "      <td>0.000000</td>\n",
       "      <td>36.100000</td>\n",
       "      <td>3.074488e+05</td>\n",
       "    </tr>\n",
       "    <tr>\n",
       "      <th>50%</th>\n",
       "      <td>3.900000e+05</td>\n",
       "      <td>2.000000</td>\n",
       "      <td>4.930000</td>\n",
       "      <td>9.000000</td>\n",
       "      <td>3.400000</td>\n",
       "      <td>0.000000</td>\n",
       "      <td>0.000000</td>\n",
       "      <td>0.000000</td>\n",
       "      <td>50.000000</td>\n",
       "      <td>3.919800e+05</td>\n",
       "    </tr>\n",
       "    <tr>\n",
       "      <th>75%</th>\n",
       "      <td>5.125000e+05</td>\n",
       "      <td>3.000000</td>\n",
       "      <td>5.580000</td>\n",
       "      <td>10.000000</td>\n",
       "      <td>3.685000</td>\n",
       "      <td>41.000000</td>\n",
       "      <td>2614.000000</td>\n",
       "      <td>1344.000000</td>\n",
       "      <td>59.500000</td>\n",
       "      <td>5.324750e+05</td>\n",
       "    </tr>\n",
       "    <tr>\n",
       "      <th>max</th>\n",
       "      <td>3.686000e+06</td>\n",
       "      <td>4.000000</td>\n",
       "      <td>8.080000</td>\n",
       "      <td>22.000000</td>\n",
       "      <td>4.200000</td>\n",
       "      <td>131.000000</td>\n",
       "      <td>7405.000000</td>\n",
       "      <td>6422.000000</td>\n",
       "      <td>93.900000</td>\n",
       "      <td>3.973508e+06</td>\n",
       "    </tr>\n",
       "  </tbody>\n",
       "</table>\n",
       "</div>"
      ],
      "text/plain": [
       "              Price       Bath  CrimeIndex  MinutesToLoop  MilesToLake  \\\n",
       "count  2.190000e+02  70.000000  219.000000     219.000000   219.000000   \n",
       "mean   4.834311e+05   2.271429    4.663607       9.698630     3.420411   \n",
       "std    4.001249e+05   0.883364    1.418146       2.898995     0.352522   \n",
       "min    2.450000e+04   1.000000    1.090000       6.000000     2.770000   \n",
       "25%    3.190000e+05   2.000000    3.940000       8.000000     3.150000   \n",
       "50%    3.900000e+05   2.000000    4.930000       9.000000     3.400000   \n",
       "75%    5.125000e+05   3.000000    5.580000      10.000000     3.685000   \n",
       "max    3.686000e+06   4.000000    8.080000      22.000000     4.200000   \n",
       "\n",
       "              Age  LotSizeSqft  HouseSizeSqft  SchoolIndex  EstimatedPrice  \n",
       "count  219.000000   219.000000     219.000000   219.000000    2.190000e+02  \n",
       "mean    29.424658   873.200913     699.977169    49.197717    4.862191e+05  \n",
       "std     49.155880  1392.893683    1175.278922    18.554525    3.978582e+05  \n",
       "min      0.000000     0.000000       0.000000    16.700000    2.883650e+04  \n",
       "25%      0.000000     0.000000       0.000000    36.100000    3.074488e+05  \n",
       "50%      0.000000     0.000000       0.000000    50.000000    3.919800e+05  \n",
       "75%     41.000000  2614.000000    1344.000000    59.500000    5.324750e+05  \n",
       "max    131.000000  7405.000000    6422.000000    93.900000    3.973508e+06  "
      ]
     },
     "execution_count": 8,
     "metadata": {},
     "output_type": "execute_result"
    }
   ],
   "source": [
    "# Summarise the data\n",
    "house_data.describe()\n",
    "#house_data.describe(include=['object'])\n",
    "#house_data.describe(include='all')"
   ]
  },
  {
   "cell_type": "code",
   "execution_count": 9,
   "metadata": {
    "collapsed": false,
    "scrolled": true
   },
   "outputs": [
    {
     "data": {
      "text/html": [
       "<div>\n",
       "<table border=\"1\" class=\"dataframe\">\n",
       "  <thead>\n",
       "    <tr style=\"text-align: right;\">\n",
       "      <th></th>\n",
       "      <th>Price</th>\n",
       "      <th>Bath</th>\n",
       "      <th>CrimeIndex</th>\n",
       "      <th>MinutesToLoop</th>\n",
       "      <th>MilesToLake</th>\n",
       "      <th>Age</th>\n",
       "      <th>LotSizeSqft</th>\n",
       "      <th>HouseSizeSqft</th>\n",
       "      <th>SchoolIndex</th>\n",
       "      <th>EstimatedPrice</th>\n",
       "    </tr>\n",
       "  </thead>\n",
       "  <tbody>\n",
       "    <tr>\n",
       "      <th>Price</th>\n",
       "      <td>1.000000</td>\n",
       "      <td>0.113943</td>\n",
       "      <td>0.118667</td>\n",
       "      <td>-0.034644</td>\n",
       "      <td>-0.072433</td>\n",
       "      <td>0.237720</td>\n",
       "      <td>0.443341</td>\n",
       "      <td>0.456272</td>\n",
       "      <td>-0.072403</td>\n",
       "      <td>0.983784</td>\n",
       "    </tr>\n",
       "    <tr>\n",
       "      <th>Bath</th>\n",
       "      <td>0.113943</td>\n",
       "      <td>1.000000</td>\n",
       "      <td>0.163785</td>\n",
       "      <td>0.166330</td>\n",
       "      <td>-0.157517</td>\n",
       "      <td>-0.039220</td>\n",
       "      <td>-0.029979</td>\n",
       "      <td>0.698526</td>\n",
       "      <td>-0.047992</td>\n",
       "      <td>0.105632</td>\n",
       "    </tr>\n",
       "    <tr>\n",
       "      <th>CrimeIndex</th>\n",
       "      <td>0.118667</td>\n",
       "      <td>0.163785</td>\n",
       "      <td>1.000000</td>\n",
       "      <td>0.194745</td>\n",
       "      <td>0.102382</td>\n",
       "      <td>-0.036644</td>\n",
       "      <td>-0.008807</td>\n",
       "      <td>0.070952</td>\n",
       "      <td>-0.100256</td>\n",
       "      <td>0.122793</td>\n",
       "    </tr>\n",
       "    <tr>\n",
       "      <th>MinutesToLoop</th>\n",
       "      <td>-0.034644</td>\n",
       "      <td>0.166330</td>\n",
       "      <td>0.194745</td>\n",
       "      <td>1.000000</td>\n",
       "      <td>0.374829</td>\n",
       "      <td>-0.023820</td>\n",
       "      <td>-0.053292</td>\n",
       "      <td>-0.032437</td>\n",
       "      <td>-0.196728</td>\n",
       "      <td>-0.034185</td>\n",
       "    </tr>\n",
       "    <tr>\n",
       "      <th>MilesToLake</th>\n",
       "      <td>-0.072433</td>\n",
       "      <td>-0.157517</td>\n",
       "      <td>0.102382</td>\n",
       "      <td>0.374829</td>\n",
       "      <td>1.000000</td>\n",
       "      <td>-0.047087</td>\n",
       "      <td>0.006240</td>\n",
       "      <td>-0.046517</td>\n",
       "      <td>-0.205966</td>\n",
       "      <td>-0.082604</td>\n",
       "    </tr>\n",
       "    <tr>\n",
       "      <th>Age</th>\n",
       "      <td>0.237720</td>\n",
       "      <td>-0.039220</td>\n",
       "      <td>-0.036644</td>\n",
       "      <td>-0.023820</td>\n",
       "      <td>-0.047087</td>\n",
       "      <td>1.000000</td>\n",
       "      <td>0.716774</td>\n",
       "      <td>0.645147</td>\n",
       "      <td>-0.029953</td>\n",
       "      <td>0.255628</td>\n",
       "    </tr>\n",
       "    <tr>\n",
       "      <th>LotSizeSqft</th>\n",
       "      <td>0.443341</td>\n",
       "      <td>-0.029979</td>\n",
       "      <td>-0.008807</td>\n",
       "      <td>-0.053292</td>\n",
       "      <td>0.006240</td>\n",
       "      <td>0.716774</td>\n",
       "      <td>1.000000</td>\n",
       "      <td>0.828598</td>\n",
       "      <td>-0.055458</td>\n",
       "      <td>0.454939</td>\n",
       "    </tr>\n",
       "    <tr>\n",
       "      <th>HouseSizeSqft</th>\n",
       "      <td>0.456272</td>\n",
       "      <td>0.698526</td>\n",
       "      <td>0.070952</td>\n",
       "      <td>-0.032437</td>\n",
       "      <td>-0.046517</td>\n",
       "      <td>0.645147</td>\n",
       "      <td>0.828598</td>\n",
       "      <td>1.000000</td>\n",
       "      <td>-0.023378</td>\n",
       "      <td>0.471783</td>\n",
       "    </tr>\n",
       "    <tr>\n",
       "      <th>SchoolIndex</th>\n",
       "      <td>-0.072403</td>\n",
       "      <td>-0.047992</td>\n",
       "      <td>-0.100256</td>\n",
       "      <td>-0.196728</td>\n",
       "      <td>-0.205966</td>\n",
       "      <td>-0.029953</td>\n",
       "      <td>-0.055458</td>\n",
       "      <td>-0.023378</td>\n",
       "      <td>1.000000</td>\n",
       "      <td>-0.073825</td>\n",
       "    </tr>\n",
       "    <tr>\n",
       "      <th>EstimatedPrice</th>\n",
       "      <td>0.983784</td>\n",
       "      <td>0.105632</td>\n",
       "      <td>0.122793</td>\n",
       "      <td>-0.034185</td>\n",
       "      <td>-0.082604</td>\n",
       "      <td>0.255628</td>\n",
       "      <td>0.454939</td>\n",
       "      <td>0.471783</td>\n",
       "      <td>-0.073825</td>\n",
       "      <td>1.000000</td>\n",
       "    </tr>\n",
       "  </tbody>\n",
       "</table>\n",
       "</div>"
      ],
      "text/plain": [
       "                   Price      Bath  CrimeIndex  MinutesToLoop  MilesToLake  \\\n",
       "Price           1.000000  0.113943    0.118667      -0.034644    -0.072433   \n",
       "Bath            0.113943  1.000000    0.163785       0.166330    -0.157517   \n",
       "CrimeIndex      0.118667  0.163785    1.000000       0.194745     0.102382   \n",
       "MinutesToLoop  -0.034644  0.166330    0.194745       1.000000     0.374829   \n",
       "MilesToLake    -0.072433 -0.157517    0.102382       0.374829     1.000000   \n",
       "Age             0.237720 -0.039220   -0.036644      -0.023820    -0.047087   \n",
       "LotSizeSqft     0.443341 -0.029979   -0.008807      -0.053292     0.006240   \n",
       "HouseSizeSqft   0.456272  0.698526    0.070952      -0.032437    -0.046517   \n",
       "SchoolIndex    -0.072403 -0.047992   -0.100256      -0.196728    -0.205966   \n",
       "EstimatedPrice  0.983784  0.105632    0.122793      -0.034185    -0.082604   \n",
       "\n",
       "                     Age  LotSizeSqft  HouseSizeSqft  SchoolIndex  \\\n",
       "Price           0.237720     0.443341       0.456272    -0.072403   \n",
       "Bath           -0.039220    -0.029979       0.698526    -0.047992   \n",
       "CrimeIndex     -0.036644    -0.008807       0.070952    -0.100256   \n",
       "MinutesToLoop  -0.023820    -0.053292      -0.032437    -0.196728   \n",
       "MilesToLake    -0.047087     0.006240      -0.046517    -0.205966   \n",
       "Age             1.000000     0.716774       0.645147    -0.029953   \n",
       "LotSizeSqft     0.716774     1.000000       0.828598    -0.055458   \n",
       "HouseSizeSqft   0.645147     0.828598       1.000000    -0.023378   \n",
       "SchoolIndex    -0.029953    -0.055458      -0.023378     1.000000   \n",
       "EstimatedPrice  0.255628     0.454939       0.471783    -0.073825   \n",
       "\n",
       "                EstimatedPrice  \n",
       "Price                 0.983784  \n",
       "Bath                  0.105632  \n",
       "CrimeIndex            0.122793  \n",
       "MinutesToLoop        -0.034185  \n",
       "MilesToLake          -0.082604  \n",
       "Age                   0.255628  \n",
       "LotSizeSqft           0.454939  \n",
       "HouseSizeSqft         0.471783  \n",
       "SchoolIndex          -0.073825  \n",
       "EstimatedPrice        1.000000  "
      ]
     },
     "execution_count": 9,
     "metadata": {},
     "output_type": "execute_result"
    }
   ],
   "source": [
    "# Look for any linear correlations in the data\n",
    "house_data.corr()\n"
   ]
  },
  {
   "cell_type": "code",
   "execution_count": 10,
   "metadata": {
    "collapsed": false
   },
   "outputs": [
    {
     "data": {
      "text/plain": [
       "array([[<matplotlib.axes._subplots.AxesSubplot object at 0x000000000A97AE80>,\n",
       "        <matplotlib.axes._subplots.AxesSubplot object at 0x0000000006997F60>,\n",
       "        <matplotlib.axes._subplots.AxesSubplot object at 0x0000000006809080>,\n",
       "        <matplotlib.axes._subplots.AxesSubplot object at 0x0000000006BEBBA8>,\n",
       "        <matplotlib.axes._subplots.AxesSubplot object at 0x000000000A86FB00>,\n",
       "        <matplotlib.axes._subplots.AxesSubplot object at 0x000000000A86FB38>,\n",
       "        <matplotlib.axes._subplots.AxesSubplot object at 0x0000000006B38E48>,\n",
       "        <matplotlib.axes._subplots.AxesSubplot object at 0x000000000BAF3208>,\n",
       "        <matplotlib.axes._subplots.AxesSubplot object at 0x000000000BB55D30>,\n",
       "        <matplotlib.axes._subplots.AxesSubplot object at 0x000000000BBAE9B0>],\n",
       "       [<matplotlib.axes._subplots.AxesSubplot object at 0x000000000BC1A320>,\n",
       "        <matplotlib.axes._subplots.AxesSubplot object at 0x000000000BC714A8>,\n",
       "        <matplotlib.axes._subplots.AxesSubplot object at 0x000000000BCD5B00>,\n",
       "        <matplotlib.axes._subplots.AxesSubplot object at 0x000000000BD34AC8>,\n",
       "        <matplotlib.axes._subplots.AxesSubplot object at 0x000000000BDA0550>,\n",
       "        <matplotlib.axes._subplots.AxesSubplot object at 0x000000000BDE5E80>,\n",
       "        <matplotlib.axes._subplots.AxesSubplot object at 0x000000000BE4F630>,\n",
       "        <matplotlib.axes._subplots.AxesSubplot object at 0x000000000BEA2940>,\n",
       "        <matplotlib.axes._subplots.AxesSubplot object at 0x000000000BF10588>,\n",
       "        <matplotlib.axes._subplots.AxesSubplot object at 0x000000000BF2FF60>],\n",
       "       [<matplotlib.axes._subplots.AxesSubplot object at 0x000000000BFCDF28>,\n",
       "        <matplotlib.axes._subplots.AxesSubplot object at 0x000000000C03A898>,\n",
       "        <matplotlib.axes._subplots.AxesSubplot object at 0x000000000C0917F0>,\n",
       "        <matplotlib.axes._subplots.AxesSubplot object at 0x000000000C0FE080>,\n",
       "        <matplotlib.axes._subplots.AxesSubplot object at 0x000000000C1552E8>,\n",
       "        <matplotlib.axes._subplots.AxesSubplot object at 0x000000000C1B9860>,\n",
       "        <matplotlib.axes._subplots.AxesSubplot object at 0x000000000C217908>,\n",
       "        <matplotlib.axes._subplots.AxesSubplot object at 0x000000000C2832B0>,\n",
       "        <matplotlib.axes._subplots.AxesSubplot object at 0x000000000C2DAC50>,\n",
       "        <matplotlib.axes._subplots.AxesSubplot object at 0x000000000C3467B8>],\n",
       "       [<matplotlib.axes._subplots.AxesSubplot object at 0x000000000C39F710>,\n",
       "        <matplotlib.axes._subplots.AxesSubplot object at 0x000000000C40A358>,\n",
       "        <matplotlib.axes._subplots.AxesSubplot object at 0x000000000C4631D0>,\n",
       "        <matplotlib.axes._subplots.AxesSubplot object at 0x000000000C4C5CF8>,\n",
       "        <matplotlib.axes._subplots.AxesSubplot object at 0x000000000C4E2470>,\n",
       "        <matplotlib.axes._subplots.AxesSubplot object at 0x000000000C58B7B8>,\n",
       "        <matplotlib.axes._subplots.AxesSubplot object at 0x000000000C5F6128>,\n",
       "        <matplotlib.axes._subplots.AxesSubplot object at 0x000000000C64E080>,\n",
       "        <matplotlib.axes._subplots.AxesSubplot object at 0x000000000C6B18D0>,\n",
       "        <matplotlib.axes._subplots.AxesSubplot object at 0x000000000C6F2470>],\n",
       "       [<matplotlib.axes._subplots.AxesSubplot object at 0x000000000C75BF98>,\n",
       "        <matplotlib.axes._subplots.AxesSubplot object at 0x000000000C7BA7B8>,\n",
       "        <matplotlib.axes._subplots.AxesSubplot object at 0x000000000C822320>,\n",
       "        <matplotlib.axes._subplots.AxesSubplot object at 0x000000000C87C278>,\n",
       "        <matplotlib.axes._subplots.AxesSubplot object at 0x000000000C8DEE80>,\n",
       "        <matplotlib.axes._subplots.AxesSubplot object at 0x000000000C934CF8>,\n",
       "        <matplotlib.axes._subplots.AxesSubplot object at 0x000000000C9A2860>,\n",
       "        <matplotlib.axes._subplots.AxesSubplot object at 0x000000000C9BFA20>,\n",
       "        <matplotlib.axes._subplots.AxesSubplot object at 0x000000000CA66320>,\n",
       "        <matplotlib.axes._subplots.AxesSubplot object at 0x000000000CACBC50>],\n",
       "       [<matplotlib.axes._subplots.AxesSubplot object at 0x000000000CB22BA8>,\n",
       "        <matplotlib.axes._subplots.AxesSubplot object at 0x000000000CB8F438>,\n",
       "        <matplotlib.axes._subplots.AxesSubplot object at 0x000000000CBE66A0>,\n",
       "        <matplotlib.axes._subplots.AxesSubplot object at 0x000000000CC4BC18>,\n",
       "        <matplotlib.axes._subplots.AxesSubplot object at 0x000000000CCABCC0>,\n",
       "        <matplotlib.axes._subplots.AxesSubplot object at 0x000000000CD15668>,\n",
       "        <matplotlib.axes._subplots.AxesSubplot object at 0x000000000CD74048>,\n",
       "        <matplotlib.axes._subplots.AxesSubplot object at 0x000000000CDD7B70>,\n",
       "        <matplotlib.axes._subplots.AxesSubplot object at 0x000000000CE2FAC8>,\n",
       "        <matplotlib.axes._subplots.AxesSubplot object at 0x000000000CE9B710>],\n",
       "       [<matplotlib.axes._subplots.AxesSubplot object at 0x000000000CEF4588>,\n",
       "        <matplotlib.axes._subplots.AxesSubplot object at 0x000000000CF5F0F0>,\n",
       "        <matplotlib.axes._subplots.AxesSubplot object at 0x000000000CF7D198>,\n",
       "        <matplotlib.axes._subplots.AxesSubplot object at 0x000000000D0035C0>,\n",
       "        <matplotlib.axes._subplots.AxesSubplot object at 0x000000000D074128>,\n",
       "        <matplotlib.axes._subplots.AxesSubplot object at 0x000000000D0CA710>,\n",
       "        <matplotlib.axes._subplots.AxesSubplot object at 0x000000000D137C18>,\n",
       "        <matplotlib.axes._subplots.AxesSubplot object at 0x000000000D18F1D0>,\n",
       "        <matplotlib.axes._subplots.AxesSubplot object at 0x000000000D1F1828>,\n",
       "        <matplotlib.axes._subplots.AxesSubplot object at 0x000000000D2517F0>],\n",
       "       [<matplotlib.axes._subplots.AxesSubplot object at 0x000000000D2C0198>,\n",
       "        <matplotlib.axes._subplots.AxesSubplot object at 0x000000000D313B38>,\n",
       "        <matplotlib.axes._subplots.AxesSubplot object at 0x000000000D3816A0>,\n",
       "        <matplotlib.axes._subplots.AxesSubplot object at 0x000000000D3DA5F8>,\n",
       "        <matplotlib.axes._subplots.AxesSubplot object at 0x000000000D444240>,\n",
       "        <matplotlib.axes._subplots.AxesSubplot object at 0x000000000D49C0B8>,\n",
       "        <matplotlib.axes._subplots.AxesSubplot object at 0x000000000D4FFBE0>,\n",
       "        <matplotlib.axes._subplots.AxesSubplot object at 0x000000000D51D278>,\n",
       "        <matplotlib.axes._subplots.AxesSubplot object at 0x000000000D5C26A0>,\n",
       "        <matplotlib.axes._subplots.AxesSubplot object at 0x000000000D628FD0>],\n",
       "       [<matplotlib.axes._subplots.AxesSubplot object at 0x000000000D681F28>,\n",
       "        <matplotlib.axes._subplots.AxesSubplot object at 0x000000000D6EB7B8>,\n",
       "        <matplotlib.axes._subplots.AxesSubplot object at 0x000000000D742A20>,\n",
       "        <matplotlib.axes._subplots.AxesSubplot object at 0x000000000D7A7F98>,\n",
       "        <matplotlib.axes._subplots.AxesSubplot object at 0x000000000D80C080>,\n",
       "        <matplotlib.axes._subplots.AxesSubplot object at 0x000000000D8709E8>,\n",
       "        <matplotlib.axes._subplots.AxesSubplot object at 0x000000000D8D13C8>,\n",
       "        <matplotlib.axes._subplots.AxesSubplot object at 0x000000000D934EF0>,\n",
       "        <matplotlib.axes._subplots.AxesSubplot object at 0x000000000D2CC668>,\n",
       "        <matplotlib.axes._subplots.AxesSubplot object at 0x000000000D9D6518>],\n",
       "       [<matplotlib.axes._subplots.AxesSubplot object at 0x000000000D979390>,\n",
       "        <matplotlib.axes._subplots.AxesSubplot object at 0x000000000DA909B0>,\n",
       "        <matplotlib.axes._subplots.AxesSubplot object at 0x000000000DAAC1D0>,\n",
       "        <matplotlib.axes._subplots.AxesSubplot object at 0x000000000DB564A8>,\n",
       "        <matplotlib.axes._subplots.AxesSubplot object at 0x000000000DBBADD8>,\n",
       "        <matplotlib.axes._subplots.AxesSubplot object at 0x000000000DC0FD30>,\n",
       "        <matplotlib.axes._subplots.AxesSubplot object at 0x000000000DC7D5C0>,\n",
       "        <matplotlib.axes._subplots.AxesSubplot object at 0x000000000DCD6828>,\n",
       "        <matplotlib.axes._subplots.AxesSubplot object at 0x000000000DD3BDA0>,\n",
       "        <matplotlib.axes._subplots.AxesSubplot object at 0x000000000DD98E48>]], dtype=object)"
      ]
     },
     "execution_count": 10,
     "metadata": {},
     "output_type": "execute_result"
    },
    {
     "data": {
      "image/png": "[encoded data removed]",
      "text/plain": [
       "<matplotlib.figure.Figure at 0x6c59080>"
      ]
     },
     "metadata": {},
     "output_type": "display_data"
    }
   ],
   "source": [
    "# Plot each variable against each other \n",
    "# scroll down past the subplot information\n",
    "pd.scatter_matrix(house_data, figsize=(15,15))"
   ]
  },
  {
   "cell_type": "markdown",
   "metadata": {},
   "source": [
    "### Questions?\n",
    "\n",
    "- Can you describe the data set - give a summary of what's happening?\n",
    "\n",
    "> -The price is highly correlated to lot or house size,e.g. ~0.45\n",
    "\n",
    "> -The price is mostly correlated to estimated price is expected as the estimeated price has used all availlable inputs.\n",
    "\n",
    "- What looks to be affecting house prices from our initial inspection?\n",
    "\n",
    "> -The lot or housesize\n",
    "\n",
    "- What is the type of relationship in those variables affecting price?\n",
    "\n",
    "> -It appears to be a linear relationship, but could be fitted by other more safisticated non-linear models, in paticulaer for the higher-end price properties which ney be determined by location and quality of the houses."
   ]
  },
  {
   "cell_type": "code",
   "execution_count": null,
   "metadata": {
    "collapsed": true
   },
   "outputs": [],
   "source": [
    "# create a fitted model in one line\n",
    "lm = smf.ols(formula='Price ~ Bath + HouseSizeSqft', data=house_data).fit()\n",
    "#print the coefficients!\n",
    "lm.params"
   ]
  },
  {
   "cell_type": "code",
   "execution_count": 147,
   "metadata": {
    "collapsed": false
   },
   "outputs": [
    {
     "data": {
      "text/plain": [
       "Intercept        374697.798582\n",
       "HouseSizeSqft       155.338283\n",
       "dtype: float64"
      ]
     },
     "execution_count": 147,
     "metadata": {},
     "output_type": "execute_result"
    }
   ],
   "source": [
    "# create a fitted model in one line\n",
    "lm3 = smf.ols(formula='Price ~  HouseSizeSqft', data=house_data).fit()\n",
    "#print the coefficients!\n",
    "lm3.params"
   ]
  },
  {
   "cell_type": "code",
   "execution_count": 151,
   "metadata": {
    "collapsed": false
   },
   "outputs": [
    {
     "data": {
      "text/plain": [
       "Intercept           -9.094947e-13\n",
       "Adj_HouseSizeSqft    1.553383e+02\n",
       "dtype: float64"
      ]
     },
     "execution_count": 151,
     "metadata": {},
     "output_type": "execute_result"
    }
   ],
   "source": [
    "house_data['Adj_Price']=list(house_data.Price-house_data.Price.mean())\n",
    "house_data['Adj_Bath']=list(house_data.Bath-house_data.Bath.mean())\n",
    "house_data['Adj_HouseSizeSqft']=list(house_data.HouseSizeSqft-house_data.HouseSizeSqft.mean())\n",
    "\n",
    "\n",
    "# create a fitted model in one line\n",
    "lm4 = smf.ols(formula='Adj_Price ~ Adj_HouseSizeSqft', data=house_data).fit()\n",
    "# print the coefficients!\n",
    "lm4.params"
   ]
  },
  {
   "cell_type": "code",
   "execution_count": 46,
   "metadata": {
    "collapsed": false
   },
   "outputs": [
    {
     "data": {
      "text/plain": [
       "pandas.core.frame.DataFrame"
      ]
     },
     "execution_count": 46,
     "metadata": {},
     "output_type": "execute_result"
    }
   ],
   "source": [
    "type(house_data)\n"
   ]
  },
  {
   "cell_type": "markdown",
   "metadata": {},
   "source": [
    "The summary function provided by the statsmodel library presents lots of useful information about the resulting model.\n",
    "\n",
    "Key items to pay attention to are:\n",
    "- R-squared\n",
    "- Adj. R-Squared\n",
    "- coef (for each variable)"
   ]
  },
  {
   "cell_type": "code",
   "execution_count": 30,
   "metadata": {
    "collapsed": false
   },
   "outputs": [
    {
     "data": {
      "text/html": [
       "<table class=\"simpletable\">\n",
       "<caption>OLS Regression Results</caption>\n",
       "<tr>\n",
       "  <th>Dep. Variable:</th>          <td>Price</td>      <th>  R-squared:         </th> <td>   0.038</td>\n",
       "</tr>\n",
       "<tr>\n",
       "  <th>Model:</th>                   <td>OLS</td>       <th>  Adj. R-squared:    </th> <td>   0.010</td>\n",
       "</tr>\n",
       "<tr>\n",
       "  <th>Method:</th>             <td>Least Squares</td>  <th>  F-statistic:       </th> <td>   1.340</td>\n",
       "</tr>\n",
       "<tr>\n",
       "  <th>Date:</th>             <td>Thu, 01 Jun 2017</td> <th>  Prob (F-statistic):</th>  <td> 0.269</td> \n",
       "</tr>\n",
       "<tr>\n",
       "  <th>Time:</th>                 <td>20:16:18</td>     <th>  Log-Likelihood:    </th> <td> -1030.2</td>\n",
       "</tr>\n",
       "<tr>\n",
       "  <th>No. Observations:</th>      <td>    70</td>      <th>  AIC:               </th> <td>   2066.</td>\n",
       "</tr>\n",
       "<tr>\n",
       "  <th>Df Residuals:</th>          <td>    67</td>      <th>  BIC:               </th> <td>   2073.</td>\n",
       "</tr>\n",
       "<tr>\n",
       "  <th>Df Model:</th>              <td>     2</td>      <th>                     </th>     <td> </td>   \n",
       "</tr>\n",
       "<tr>\n",
       "  <th>Covariance Type:</th>      <td>nonrobust</td>    <th>                     </th>     <td> </td>   \n",
       "</tr>\n",
       "</table>\n",
       "<table class=\"simpletable\">\n",
       "<tr>\n",
       "        <td></td>           <th>coef</th>     <th>std err</th>      <th>t</th>      <th>P>|t|</th> <th>[95.0% Conf. Int.]</th> \n",
       "</tr>\n",
       "<tr>\n",
       "  <th>Intercept</th>     <td> 5.083e+05</td> <td> 2.05e+05</td> <td>    2.478</td> <td> 0.016</td> <td> 9.89e+04  9.18e+05</td>\n",
       "</tr>\n",
       "<tr>\n",
       "  <th>Bath</th>          <td>  -2.9e+04</td> <td> 1.16e+05</td> <td>   -0.250</td> <td> 0.803</td> <td>-2.61e+05  2.03e+05</td>\n",
       "</tr>\n",
       "<tr>\n",
       "  <th>HouseSizeSqft</th> <td>  133.0119</td> <td>   99.854</td> <td>    1.332</td> <td> 0.187</td> <td>  -66.297   332.321</td>\n",
       "</tr>\n",
       "</table>\n",
       "<table class=\"simpletable\">\n",
       "<tr>\n",
       "  <th>Omnibus:</th>       <td>85.337</td> <th>  Durbin-Watson:     </th> <td>   1.175</td> \n",
       "</tr>\n",
       "<tr>\n",
       "  <th>Prob(Omnibus):</th> <td> 0.000</td> <th>  Jarque-Bera (JB):  </th> <td> 891.863</td> \n",
       "</tr>\n",
       "<tr>\n",
       "  <th>Skew:</th>          <td> 3.754</td> <th>  Prob(JB):          </th> <td>2.16e-194</td>\n",
       "</tr>\n",
       "<tr>\n",
       "  <th>Kurtosis:</th>      <td>18.793</td> <th>  Cond. No.          </th> <td>7.19e+03</td> \n",
       "</tr>\n",
       "</table>"
      ],
      "text/plain": [
       "<class 'statsmodels.iolib.summary.Summary'>\n",
       "\"\"\"\n",
       "                            OLS Regression Results                            \n",
       "==============================================================================\n",
       "Dep. Variable:                  Price   R-squared:                       0.038\n",
       "Model:                            OLS   Adj. R-squared:                  0.010\n",
       "Method:                 Least Squares   F-statistic:                     1.340\n",
       "Date:                Thu, 01 Jun 2017   Prob (F-statistic):              0.269\n",
       "Time:                        20:16:18   Log-Likelihood:                -1030.2\n",
       "No. Observations:                  70   AIC:                             2066.\n",
       "Df Residuals:                      67   BIC:                             2073.\n",
       "Df Model:                           2                                         \n",
       "Covariance Type:            nonrobust                                         \n",
       "=================================================================================\n",
       "                    coef    std err          t      P>|t|      [95.0% Conf. Int.]\n",
       "---------------------------------------------------------------------------------\n",
       "Intercept      5.083e+05   2.05e+05      2.478      0.016      9.89e+04  9.18e+05\n",
       "Bath            -2.9e+04   1.16e+05     -0.250      0.803     -2.61e+05  2.03e+05\n",
       "HouseSizeSqft   133.0119     99.854      1.332      0.187       -66.297   332.321\n",
       "==============================================================================\n",
       "Omnibus:                       85.337   Durbin-Watson:                   1.175\n",
       "Prob(Omnibus):                  0.000   Jarque-Bera (JB):              891.863\n",
       "Skew:                           3.754   Prob(JB):                    2.16e-194\n",
       "Kurtosis:                      18.793   Cond. No.                     7.19e+03\n",
       "==============================================================================\n",
       "\n",
       "Warnings:\n",
       "[1] Standard Errors assume that the covariance matrix of the errors is correctly specified.\n",
       "[2] The condition number is large, 7.19e+03. This might indicate that there are\n",
       "strong multicollinearity or other numerical problems.\n",
       "\"\"\""
      ]
     },
     "execution_count": 30,
     "metadata": {},
     "output_type": "execute_result"
    }
   ],
   "source": [
    "lm.summary()"
   ]
  },
  {
   "cell_type": "code",
   "execution_count": 13,
   "metadata": {
    "collapsed": false
   },
   "outputs": [
    {
     "data": {
      "text/plain": [
       "467873.02"
      ]
     },
     "execution_count": 13,
     "metadata": {},
     "output_type": "execute_result"
    }
   ],
   "source": [
    "# What would you expect a house price to be for a house with 3 bathrooms and 350 sqft?\n",
    "# Calculate it.\n",
    "508310 -28995.66*3 + 133*350"
   ]
  },
  {
   "cell_type": "markdown",
   "metadata": {},
   "source": [
    "## Student Excercise"
   ]
  },
  {
   "cell_type": "markdown",
   "metadata": {},
   "source": [
    "Now try creating a regression from just the EstimatedPrice"
   ]
  },
  {
   "cell_type": "code",
   "execution_count": 14,
   "metadata": {
    "collapsed": false
   },
   "outputs": [
    {
     "data": {
      "text/plain": [
       "<seaborn.axisgrid.FacetGrid at 0xfa81278>"
      ]
     },
     "execution_count": 14,
     "metadata": {},
     "output_type": "execute_result"
    },
    {
     "data": {
      "image/png": "[encoded data removed]",
      "text/plain": [
       "<matplotlib.figure.Figure at 0xfa81588>"
      ]
     },
     "metadata": {},
     "output_type": "display_data"
    }
   ],
   "source": [
    "# check the distribution of Price vs. EstimatedPrice using a scatterplot\n",
    "import seaborn as sns\n",
    "sns.set_style(\"darkgrid\")\n",
    "\n",
    "sns.lmplot(y='Price', x='EstimatedPrice', data=house_data)"
   ]
  },
  {
   "cell_type": "code",
   "execution_count": 49,
   "metadata": {
    "collapsed": false
   },
   "outputs": [
    {
     "data": {
      "text/plain": [
       "Intercept         2371.037940\n",
       "EstimatedPrice       0.989389\n",
       "dtype: float64"
      ]
     },
     "execution_count": 49,
     "metadata": {},
     "output_type": "execute_result"
    }
   ],
   "source": [
    "# Let's try just modelling just using the estimated price\n",
    "# create a fitted model in one line\n",
    "lm = smf.ols(formula='Price ~ EstimatedPrice ', data=house_data).fit()\n",
    "\n",
    "# print the coefficients\n",
    "lm.params"
   ]
  },
  {
   "cell_type": "code",
   "execution_count": 16,
   "metadata": {
    "collapsed": false
   },
   "outputs": [
    {
     "data": {
      "text/html": [
       "<table class=\"simpletable\">\n",
       "<caption>OLS Regression Results</caption>\n",
       "<tr>\n",
       "  <th>Dep. Variable:</th>          <td>Price</td>      <th>  R-squared:         </th> <td>   0.968</td> \n",
       "</tr>\n",
       "<tr>\n",
       "  <th>Model:</th>                   <td>OLS</td>       <th>  Adj. R-squared:    </th> <td>   0.968</td> \n",
       "</tr>\n",
       "<tr>\n",
       "  <th>Method:</th>             <td>Least Squares</td>  <th>  F-statistic:       </th> <td>   6529.</td> \n",
       "</tr>\n",
       "<tr>\n",
       "  <th>Date:</th>             <td>Thu, 01 Jun 2017</td> <th>  Prob (F-statistic):</th> <td>6.25e-164</td>\n",
       "</tr>\n",
       "<tr>\n",
       "  <th>Time:</th>                 <td>19:56:59</td>     <th>  Log-Likelihood:    </th> <td> -2758.9</td> \n",
       "</tr>\n",
       "<tr>\n",
       "  <th>No. Observations:</th>      <td>   219</td>      <th>  AIC:               </th> <td>   5522.</td> \n",
       "</tr>\n",
       "<tr>\n",
       "  <th>Df Residuals:</th>          <td>   217</td>      <th>  BIC:               </th> <td>   5529.</td> \n",
       "</tr>\n",
       "<tr>\n",
       "  <th>Df Model:</th>              <td>     1</td>      <th>                     </th>     <td> </td>    \n",
       "</tr>\n",
       "<tr>\n",
       "  <th>Covariance Type:</th>      <td>nonrobust</td>    <th>                     </th>     <td> </td>    \n",
       "</tr>\n",
       "</table>\n",
       "<table class=\"simpletable\">\n",
       "<tr>\n",
       "         <td></td>           <th>coef</th>     <th>std err</th>      <th>t</th>      <th>P>|t|</th> <th>[95.0% Conf. Int.]</th> \n",
       "</tr>\n",
       "<tr>\n",
       "  <th>Intercept</th>      <td> 2371.0379</td> <td> 7685.764</td> <td>    0.308</td> <td> 0.758</td> <td>-1.28e+04  1.75e+04</td>\n",
       "</tr>\n",
       "<tr>\n",
       "  <th>EstimatedPrice</th> <td>    0.9894</td> <td>    0.012</td> <td>   80.801</td> <td> 0.000</td> <td>    0.965     1.014</td>\n",
       "</tr>\n",
       "</table>\n",
       "<table class=\"simpletable\">\n",
       "<tr>\n",
       "  <th>Omnibus:</th>       <td>198.218</td> <th>  Durbin-Watson:     </th> <td>   2.238</td>\n",
       "</tr>\n",
       "<tr>\n",
       "  <th>Prob(Omnibus):</th> <td> 0.000</td>  <th>  Jarque-Bera (JB):  </th> <td>8006.566</td>\n",
       "</tr>\n",
       "<tr>\n",
       "  <th>Skew:</th>          <td> 3.156</td>  <th>  Prob(JB):          </th> <td>    0.00</td>\n",
       "</tr>\n",
       "<tr>\n",
       "  <th>Kurtosis:</th>      <td>31.941</td>  <th>  Cond. No.          </th> <td>9.93e+05</td>\n",
       "</tr>\n",
       "</table>"
      ],
      "text/plain": [
       "<class 'statsmodels.iolib.summary.Summary'>\n",
       "\"\"\"\n",
       "                            OLS Regression Results                            \n",
       "==============================================================================\n",
       "Dep. Variable:                  Price   R-squared:                       0.968\n",
       "Model:                            OLS   Adj. R-squared:                  0.968\n",
       "Method:                 Least Squares   F-statistic:                     6529.\n",
       "Date:                Thu, 01 Jun 2017   Prob (F-statistic):          6.25e-164\n",
       "Time:                        19:56:59   Log-Likelihood:                -2758.9\n",
       "No. Observations:                 219   AIC:                             5522.\n",
       "Df Residuals:                     217   BIC:                             5529.\n",
       "Df Model:                           1                                         \n",
       "Covariance Type:            nonrobust                                         \n",
       "==================================================================================\n",
       "                     coef    std err          t      P>|t|      [95.0% Conf. Int.]\n",
       "----------------------------------------------------------------------------------\n",
       "Intercept       2371.0379   7685.764      0.308      0.758     -1.28e+04  1.75e+04\n",
       "EstimatedPrice     0.9894      0.012     80.801      0.000         0.965     1.014\n",
       "==============================================================================\n",
       "Omnibus:                      198.218   Durbin-Watson:                   2.238\n",
       "Prob(Omnibus):                  0.000   Jarque-Bera (JB):             8006.566\n",
       "Skew:                           3.156   Prob(JB):                         0.00\n",
       "Kurtosis:                      31.941   Cond. No.                     9.93e+05\n",
       "==============================================================================\n",
       "\n",
       "Warnings:\n",
       "[1] Standard Errors assume that the covariance matrix of the errors is correctly specified.\n",
       "[2] The condition number is large, 9.93e+05. This might indicate that there are\n",
       "strong multicollinearity or other numerical problems.\n",
       "\"\"\""
      ]
     },
     "execution_count": 16,
     "metadata": {},
     "output_type": "execute_result"
    }
   ],
   "source": [
    "lm.summary()"
   ]
  },
  {
   "cell_type": "markdown",
   "metadata": {},
   "source": [
    "### Question:\n",
    "Did the model build on just Estimated Price have a better R-Squared value than the prior model built using Bath and HouseSizeSqft?\n",
    "\n",
    "Yes, but the estimated should not be regarded as an idependent variable."
   ]
  },
  {
   "cell_type": "markdown",
   "metadata": {},
   "source": [
    "### Predicting Price using the built model"
   ]
  },
  {
   "cell_type": "markdown",
   "metadata": {},
   "source": [
    "\n",
    "Now we will find out what the model estimates the price will be for the the minimum and maximium values of EstimatedPrice"
   ]
  },
  {
   "cell_type": "code",
   "execution_count": 50,
   "metadata": {
    "collapsed": false
   },
   "outputs": [
    {
     "data": {
      "text/html": [
       "<div>\n",
       "<table border=\"1\" class=\"dataframe\">\n",
       "  <thead>\n",
       "    <tr style=\"text-align: right;\">\n",
       "      <th></th>\n",
       "      <th>EstimatedPrice</th>\n",
       "    </tr>\n",
       "  </thead>\n",
       "  <tbody>\n",
       "    <tr>\n",
       "      <th>0</th>\n",
       "      <td>28836.5</td>\n",
       "    </tr>\n",
       "    <tr>\n",
       "      <th>1</th>\n",
       "      <td>3973508.0</td>\n",
       "    </tr>\n",
       "  </tbody>\n",
       "</table>\n",
       "</div>"
      ],
      "text/plain": [
       "   EstimatedPrice\n",
       "0         28836.5\n",
       "1       3973508.0"
      ]
     },
     "execution_count": 50,
     "metadata": {},
     "output_type": "execute_result"
    }
   ],
   "source": [
    "# create a DataFrame with the minimum and maximum values of EstimatedPrice\n",
    "# these values will be be used in the built model to predict the Price\n",
    "X_new = pd.DataFrame({'EstimatedPrice': [house_data.EstimatedPrice.min(), house_data.EstimatedPrice.max()]})\n",
    "X_new.head()"
   ]
  },
  {
   "cell_type": "code",
   "execution_count": 51,
   "metadata": {
    "collapsed": false
   },
   "outputs": [
    {
     "data": {
      "text/plain": [
       "array([   30901.56354902,  3933717.4826128 ])"
      ]
     },
     "execution_count": 51,
     "metadata": {},
     "output_type": "execute_result"
    }
   ],
   "source": [
    "# predict price given two data points and the built model\n",
    "\n",
    "preds = lm.predict(X_new)\n",
    "preds"
   ]
  },
  {
   "cell_type": "markdown",
   "metadata": {},
   "source": [
    "Now lets view a line representing the model build off just Estimated Price, over a scatter plot of the data of Price vs. EstimatedPrice.\n",
    "\n",
    "To produce the line overlay, we will simply plot a straight line between the two predicted points over the scatter plot. "
   ]
  },
  {
   "cell_type": "code",
   "execution_count": 52,
   "metadata": {
    "collapsed": false
   },
   "outputs": [
    {
     "data": {
      "text/plain": [
       "<matplotlib.axes._subplots.AxesSubplot at 0xe87f400>"
      ]
     },
     "execution_count": 52,
     "metadata": {},
     "output_type": "execute_result"
    },
    {
     "data": {
      "image/png": "[encoded data removed]",
      "text/plain": [
       "<matplotlib.figure.Figure at 0xe5765f8>"
      ]
     },
     "metadata": {},
     "output_type": "display_data"
    }
   ],
   "source": [
    "# first, plot the observed data\n",
    "house_data.plot(kind='scatter', x='EstimatedPrice', y='Price')"
   ]
  },
  {
   "cell_type": "code",
   "execution_count": 53,
   "metadata": {
    "collapsed": false
   },
   "outputs": [
    {
     "data": {
      "text/plain": [
       "[<matplotlib.lines.Line2D at 0xfedef98>]"
      ]
     },
     "execution_count": 53,
     "metadata": {},
     "output_type": "execute_result"
    },
    {
     "data": {
      "image/png": "[encoded data removed]",
      "text/plain": [
       "<matplotlib.figure.Figure at 0xff27a20>"
      ]
     },
     "metadata": {},
     "output_type": "display_data"
    }
   ],
   "source": [
    "# Now, plot a line over the points that uses just the two points\n",
    "house_data.plot(kind='scatter', x='EstimatedPrice', y='Price')\n",
    "# this code overlays a straight line between the the coordinates created by X_new and preds\n",
    "plt.plot(X_new, preds, c='red', linewidth=2)"
   ]
  },
  {
   "cell_type": "markdown",
   "metadata": {
    "collapsed": true
   },
   "source": [
    "### Experiment\n",
    "Now try creating new models by selecting different variables or combinations of variables. Can you get a better fit?"
   ]
  },
  {
   "cell_type": "code",
   "execution_count": 6,
   "metadata": {
    "collapsed": false
   },
   "outputs": [
    {
     "data": {
      "text/plain": [
       "Intercept        884610.190366\n",
       "HouseSizeSqft       148.657610\n",
       "LotSizeSqft         140.631643\n",
       "CrimeIndex       102612.084275\n",
       "MinutesToLoop     50642.237331\n",
       "MilesToLake     -412191.835833\n",
       "SchoolIndex       -3925.512630\n",
       "Bath            -108091.642647\n",
       "dtype: float64"
      ]
     },
     "execution_count": 6,
     "metadata": {},
     "output_type": "execute_result"
    }
   ],
   "source": [
    "# Import the libraries required\n",
    "import pandas as pd\n",
    "import statsmodels.formula.api as smf\n",
    "import matplotlib.pyplot as plt\n",
    "import numpy as np\n",
    "\n",
    "# add more variables to increase R-squr\n",
    "house_data = pd.read_csv(\"chicagohouseprices2.csv\", index_col=0)\n",
    "lm5 = smf.ols(formula='Price ~  HouseSizeSqft +LotSizeSqft +CrimeIndex +MinutesToLoop +MilesToLake +SchoolIndex +Bath', data=house_data).fit()\n",
    "lm5.params"
   ]
  },
  {
   "cell_type": "code",
   "execution_count": 7,
   "metadata": {
    "collapsed": false,
    "scrolled": true
   },
   "outputs": [
    {
     "data": {
      "text/html": [
       "<table class=\"simpletable\">\n",
       "<caption>OLS Regression Results</caption>\n",
       "<tr>\n",
       "  <th>Dep. Variable:</th>          <td>Price</td>      <th>  R-squared:         </th> <td>   0.154</td>\n",
       "</tr>\n",
       "<tr>\n",
       "  <th>Model:</th>                   <td>OLS</td>       <th>  Adj. R-squared:    </th> <td>   0.058</td>\n",
       "</tr>\n",
       "<tr>\n",
       "  <th>Method:</th>             <td>Least Squares</td>  <th>  F-statistic:       </th> <td>   1.611</td>\n",
       "</tr>\n",
       "<tr>\n",
       "  <th>Date:</th>             <td>Mon, 12 Jun 2017</td> <th>  Prob (F-statistic):</th>  <td> 0.149</td> \n",
       "</tr>\n",
       "<tr>\n",
       "  <th>Time:</th>                 <td>11:00:07</td>     <th>  Log-Likelihood:    </th> <td> -1025.7</td>\n",
       "</tr>\n",
       "<tr>\n",
       "  <th>No. Observations:</th>      <td>    70</td>      <th>  AIC:               </th> <td>   2067.</td>\n",
       "</tr>\n",
       "<tr>\n",
       "  <th>Df Residuals:</th>          <td>    62</td>      <th>  BIC:               </th> <td>   2085.</td>\n",
       "</tr>\n",
       "<tr>\n",
       "  <th>Df Model:</th>              <td>     7</td>      <th>                     </th>     <td> </td>   \n",
       "</tr>\n",
       "<tr>\n",
       "  <th>Covariance Type:</th>      <td>nonrobust</td>    <th>                     </th>     <td> </td>   \n",
       "</tr>\n",
       "</table>\n",
       "<table class=\"simpletable\">\n",
       "<tr>\n",
       "        <td></td>           <th>coef</th>     <th>std err</th>      <th>t</th>      <th>P>|t|</th> <th>[95.0% Conf. Int.]</th> \n",
       "</tr>\n",
       "<tr>\n",
       "  <th>Intercept</th>     <td> 8.846e+05</td> <td> 9.64e+05</td> <td>    0.918</td> <td> 0.362</td> <td>-1.04e+06  2.81e+06</td>\n",
       "</tr>\n",
       "<tr>\n",
       "  <th>HouseSizeSqft</th> <td>  148.6576</td> <td>  104.948</td> <td>    1.416</td> <td> 0.162</td> <td>  -61.130   358.446</td>\n",
       "</tr>\n",
       "<tr>\n",
       "  <th>LotSizeSqft</th>   <td>  140.6316</td> <td>   80.048</td> <td>    1.757</td> <td> 0.084</td> <td>  -19.382   300.646</td>\n",
       "</tr>\n",
       "<tr>\n",
       "  <th>CrimeIndex</th>    <td> 1.026e+05</td> <td> 6.54e+04</td> <td>    1.569</td> <td> 0.122</td> <td>-2.82e+04  2.33e+05</td>\n",
       "</tr>\n",
       "<tr>\n",
       "  <th>MinutesToLoop</th> <td> 5.064e+04</td> <td> 4.42e+04</td> <td>    1.146</td> <td> 0.256</td> <td>-3.77e+04  1.39e+05</td>\n",
       "</tr>\n",
       "<tr>\n",
       "  <th>MilesToLake</th>   <td>-4.122e+05</td> <td> 2.42e+05</td> <td>   -1.704</td> <td> 0.093</td> <td>-8.96e+05  7.12e+04</td>\n",
       "</tr>\n",
       "<tr>\n",
       "  <th>SchoolIndex</th>   <td>-3925.5126</td> <td> 4262.032</td> <td>   -0.921</td> <td> 0.361</td> <td>-1.24e+04  4594.168</td>\n",
       "</tr>\n",
       "<tr>\n",
       "  <th>Bath</th>          <td>-1.081e+05</td> <td> 1.24e+05</td> <td>   -0.875</td> <td> 0.385</td> <td>-3.55e+05  1.39e+05</td>\n",
       "</tr>\n",
       "</table>\n",
       "<table class=\"simpletable\">\n",
       "<tr>\n",
       "  <th>Omnibus:</th>       <td>70.911</td> <th>  Durbin-Watson:     </th> <td>   1.362</td> \n",
       "</tr>\n",
       "<tr>\n",
       "  <th>Prob(Omnibus):</th> <td> 0.000</td> <th>  Jarque-Bera (JB):  </th> <td> 499.169</td> \n",
       "</tr>\n",
       "<tr>\n",
       "  <th>Skew:</th>          <td> 3.053</td> <th>  Prob(JB):          </th> <td>4.04e-109</td>\n",
       "</tr>\n",
       "<tr>\n",
       "  <th>Kurtosis:</th>      <td>14.569</td> <th>  Cond. No.          </th> <td>5.07e+04</td> \n",
       "</tr>\n",
       "</table>"
      ],
      "text/plain": [
       "<class 'statsmodels.iolib.summary.Summary'>\n",
       "\"\"\"\n",
       "                            OLS Regression Results                            \n",
       "==============================================================================\n",
       "Dep. Variable:                  Price   R-squared:                       0.154\n",
       "Model:                            OLS   Adj. R-squared:                  0.058\n",
       "Method:                 Least Squares   F-statistic:                     1.611\n",
       "Date:                Mon, 12 Jun 2017   Prob (F-statistic):              0.149\n",
       "Time:                        11:00:07   Log-Likelihood:                -1025.7\n",
       "No. Observations:                  70   AIC:                             2067.\n",
       "Df Residuals:                      62   BIC:                             2085.\n",
       "Df Model:                           7                                         \n",
       "Covariance Type:            nonrobust                                         \n",
       "=================================================================================\n",
       "                    coef    std err          t      P>|t|      [95.0% Conf. Int.]\n",
       "---------------------------------------------------------------------------------\n",
       "Intercept      8.846e+05   9.64e+05      0.918      0.362     -1.04e+06  2.81e+06\n",
       "HouseSizeSqft   148.6576    104.948      1.416      0.162       -61.130   358.446\n",
       "LotSizeSqft     140.6316     80.048      1.757      0.084       -19.382   300.646\n",
       "CrimeIndex     1.026e+05   6.54e+04      1.569      0.122     -2.82e+04  2.33e+05\n",
       "MinutesToLoop  5.064e+04   4.42e+04      1.146      0.256     -3.77e+04  1.39e+05\n",
       "MilesToLake   -4.122e+05   2.42e+05     -1.704      0.093     -8.96e+05  7.12e+04\n",
       "SchoolIndex   -3925.5126   4262.032     -0.921      0.361     -1.24e+04  4594.168\n",
       "Bath          -1.081e+05   1.24e+05     -0.875      0.385     -3.55e+05  1.39e+05\n",
       "==============================================================================\n",
       "Omnibus:                       70.911   Durbin-Watson:                   1.362\n",
       "Prob(Omnibus):                  0.000   Jarque-Bera (JB):              499.169\n",
       "Skew:                           3.053   Prob(JB):                    4.04e-109\n",
       "Kurtosis:                      14.569   Cond. No.                     5.07e+04\n",
       "==============================================================================\n",
       "\n",
       "Warnings:\n",
       "[1] Standard Errors assume that the covariance matrix of the errors is correctly specified.\n",
       "[2] The condition number is large, 5.07e+04. This might indicate that there are\n",
       "strong multicollinearity or other numerical problems.\n",
       "\"\"\""
      ]
     },
     "execution_count": 7,
     "metadata": {},
     "output_type": "execute_result"
    }
   ],
   "source": [
    "lm5.summary()\n"
   ]
  },
  {
   "cell_type": "code",
   "execution_count": null,
   "metadata": {
    "collapsed": true
   },
   "outputs": [],
   "source": [
    "# R-square increases from 0.03 to 0.15"
   ]
  },
  {
   "cell_type": "markdown",
   "metadata": {},
   "source": [
    "## Themepark "
   ]
  },
  {
   "cell_type": "markdown",
   "metadata": {},
   "source": [
    "The file **themepark.csv** has some data from a theme park. Children were asked to rate their experience on a scale\n",
    "from 0-5. This data was compared against the number of hours they spent in the park."
   ]
  },
  {
   "cell_type": "code",
   "execution_count": 20,
   "metadata": {
    "collapsed": false
   },
   "outputs": [
    {
     "name": "stdout",
     "output_type": "stream",
     "text": [
      "anscombe.csv\n",
      "chicagohouseprices2.csv\n",
      "drinks.csv\n",
      "Lab 3 - Regression.ipynb\n",
      "themepark.csv\n"
     ]
    }
   ],
   "source": [
    "!ls "
   ]
  },
  {
   "cell_type": "code",
   "execution_count": 5,
   "metadata": {
    "collapsed": false
   },
   "outputs": [],
   "source": [
    "# Create a pandas DataFrame from this data by reading it in using pandas. \n",
    "# It is located in the same directory as this notebook, so you will not need to provide a filepath.\n",
    "# Read in data\n",
    "themepark_data = pd.read_csv(\"themepark.csv\")"
   ]
  },
  {
   "cell_type": "code",
   "execution_count": 180,
   "metadata": {
    "collapsed": false
   },
   "outputs": [
    {
     "data": {
      "text/html": [
       "<div>\n",
       "<table border=\"1\" class=\"dataframe\">\n",
       "  <thead>\n",
       "    <tr style=\"text-align: right;\">\n",
       "      <th></th>\n",
       "      <th>Hours</th>\n",
       "      <th>Enjoyment</th>\n",
       "    </tr>\n",
       "  </thead>\n",
       "  <tbody>\n",
       "    <tr>\n",
       "      <th>0</th>\n",
       "      <td>1</td>\n",
       "      <td>1</td>\n",
       "    </tr>\n",
       "    <tr>\n",
       "      <th>1</th>\n",
       "      <td>2</td>\n",
       "      <td>3</td>\n",
       "    </tr>\n",
       "    <tr>\n",
       "      <th>2</th>\n",
       "      <td>3</td>\n",
       "      <td>4</td>\n",
       "    </tr>\n",
       "    <tr>\n",
       "      <th>3</th>\n",
       "      <td>4</td>\n",
       "      <td>5</td>\n",
       "    </tr>\n",
       "    <tr>\n",
       "      <th>4</th>\n",
       "      <td>5</td>\n",
       "      <td>5</td>\n",
       "    </tr>\n",
       "  </tbody>\n",
       "</table>\n",
       "</div>"
      ],
      "text/plain": [
       "   Hours  Enjoyment\n",
       "0      1          1\n",
       "1      2          3\n",
       "2      3          4\n",
       "3      4          5\n",
       "4      5          5"
      ]
     },
     "execution_count": 180,
     "metadata": {},
     "output_type": "execute_result"
    }
   ],
   "source": [
    "# Have a look at the data (e.g. display the head or tail, use describe, etc.)\n",
    "themepark_data.head()"
   ]
  },
  {
   "cell_type": "code",
   "execution_count": 185,
   "metadata": {
    "collapsed": false
   },
   "outputs": [
    {
     "data": {
      "text/html": [
       "<div>\n",
       "<table border=\"1\" class=\"dataframe\">\n",
       "  <thead>\n",
       "    <tr style=\"text-align: right;\">\n",
       "      <th></th>\n",
       "      <th>Hours</th>\n",
       "      <th>Enjoyment</th>\n",
       "      <th>Adj_Hours</th>\n",
       "    </tr>\n",
       "  </thead>\n",
       "  <tbody>\n",
       "    <tr>\n",
       "      <th>22</th>\n",
       "      <td>4</td>\n",
       "      <td>5</td>\n",
       "      <td>4</td>\n",
       "    </tr>\n",
       "    <tr>\n",
       "      <th>23</th>\n",
       "      <td>5</td>\n",
       "      <td>5</td>\n",
       "      <td>5</td>\n",
       "    </tr>\n",
       "    <tr>\n",
       "      <th>24</th>\n",
       "      <td>5</td>\n",
       "      <td>5</td>\n",
       "      <td>5</td>\n",
       "    </tr>\n",
       "    <tr>\n",
       "      <th>25</th>\n",
       "      <td>5</td>\n",
       "      <td>5</td>\n",
       "      <td>5</td>\n",
       "    </tr>\n",
       "    <tr>\n",
       "      <th>26</th>\n",
       "      <td>5</td>\n",
       "      <td>4</td>\n",
       "      <td>5</td>\n",
       "    </tr>\n",
       "  </tbody>\n",
       "</table>\n",
       "</div>"
      ],
      "text/plain": [
       "    Hours  Enjoyment  Adj_Hours\n",
       "22      4          5          4\n",
       "23      5          5          5\n",
       "24      5          5          5\n",
       "25      5          5          5\n",
       "26      5          4          5"
      ]
     },
     "execution_count": 185,
     "metadata": {},
     "output_type": "execute_result"
    }
   ],
   "source": [
    "themepark_data.tail()"
   ]
  },
  {
   "cell_type": "code",
   "execution_count": 71,
   "metadata": {
    "collapsed": false
   },
   "outputs": [
    {
     "data": {
      "text/plain": [
       "<matplotlib.axes._subplots.AxesSubplot at 0x10260588>"
      ]
     },
     "execution_count": 71,
     "metadata": {},
     "output_type": "execute_result"
    },
    {
     "data": {
      "image/png": "[encoded data removed]",
      "text/plain": [
       "<matplotlib.figure.Figure at 0x102656d8>"
      ]
     },
     "metadata": {},
     "output_type": "display_data"
    }
   ],
   "source": [
    "# Draw a scatterplot of this data.\n",
    "#themepark_data.describe()\n",
    "themepark_data\n",
    "themepark_data.plot(kind='scatter', x='Hours', y='Enjoyment')"
   ]
  },
  {
   "cell_type": "code",
   "execution_count": 68,
   "metadata": {
    "collapsed": false
   },
   "outputs": [],
   "source": [
    "# Try doing a linear regression on this data\n",
    "lm = smf.ols(formula='Enjoyment ~ Hours', data=themepark_data).fit()"
   ]
  },
  {
   "cell_type": "code",
   "execution_count": 69,
   "metadata": {
    "collapsed": false
   },
   "outputs": [
    {
     "data": {
      "text/html": [
       "<table class=\"simpletable\">\n",
       "<caption>OLS Regression Results</caption>\n",
       "<tr>\n",
       "  <th>Dep. Variable:</th>        <td>Enjoyment</td>    <th>  R-squared:         </th> <td>   0.673</td>\n",
       "</tr>\n",
       "<tr>\n",
       "  <th>Model:</th>                   <td>OLS</td>       <th>  Adj. R-squared:    </th> <td>   0.660</td>\n",
       "</tr>\n",
       "<tr>\n",
       "  <th>Method:</th>             <td>Least Squares</td>  <th>  F-statistic:       </th> <td>   51.47</td>\n",
       "</tr>\n",
       "<tr>\n",
       "  <th>Date:</th>             <td>Thu, 01 Jun 2017</td> <th>  Prob (F-statistic):</th> <td>1.61e-07</td>\n",
       "</tr>\n",
       "<tr>\n",
       "  <th>Time:</th>                 <td>20:56:37</td>     <th>  Log-Likelihood:    </th> <td> -35.570</td>\n",
       "</tr>\n",
       "<tr>\n",
       "  <th>No. Observations:</th>      <td>    27</td>      <th>  AIC:               </th> <td>   75.14</td>\n",
       "</tr>\n",
       "<tr>\n",
       "  <th>Df Residuals:</th>          <td>    25</td>      <th>  BIC:               </th> <td>   77.73</td>\n",
       "</tr>\n",
       "<tr>\n",
       "  <th>Df Model:</th>              <td>     1</td>      <th>                     </th>     <td> </td>   \n",
       "</tr>\n",
       "<tr>\n",
       "  <th>Covariance Type:</th>      <td>nonrobust</td>    <th>                     </th>     <td> </td>   \n",
       "</tr>\n",
       "</table>\n",
       "<table class=\"simpletable\">\n",
       "<tr>\n",
       "      <td></td>         <th>coef</th>     <th>std err</th>      <th>t</th>      <th>P>|t|</th> <th>[95.0% Conf. Int.]</th> \n",
       "</tr>\n",
       "<tr>\n",
       "  <th>Intercept</th> <td>    0.6631</td> <td>    0.391</td> <td>    1.697</td> <td> 0.102</td> <td>   -0.142     1.468</td>\n",
       "</tr>\n",
       "<tr>\n",
       "  <th>Hours</th>     <td>    0.9067</td> <td>    0.126</td> <td>    7.174</td> <td> 0.000</td> <td>    0.646     1.167</td>\n",
       "</tr>\n",
       "</table>\n",
       "<table class=\"simpletable\">\n",
       "<tr>\n",
       "  <th>Omnibus:</th>       <td> 0.596</td> <th>  Durbin-Watson:     </th> <td>   1.507</td>\n",
       "</tr>\n",
       "<tr>\n",
       "  <th>Prob(Omnibus):</th> <td> 0.742</td> <th>  Jarque-Bera (JB):  </th> <td>   0.660</td>\n",
       "</tr>\n",
       "<tr>\n",
       "  <th>Skew:</th>          <td> 0.138</td> <th>  Prob(JB):          </th> <td>   0.719</td>\n",
       "</tr>\n",
       "<tr>\n",
       "  <th>Kurtosis:</th>      <td> 2.285</td> <th>  Cond. No.          </th> <td>    7.25</td>\n",
       "</tr>\n",
       "</table>"
      ],
      "text/plain": [
       "<class 'statsmodels.iolib.summary.Summary'>\n",
       "\"\"\"\n",
       "                            OLS Regression Results                            \n",
       "==============================================================================\n",
       "Dep. Variable:              Enjoyment   R-squared:                       0.673\n",
       "Model:                            OLS   Adj. R-squared:                  0.660\n",
       "Method:                 Least Squares   F-statistic:                     51.47\n",
       "Date:                Thu, 01 Jun 2017   Prob (F-statistic):           1.61e-07\n",
       "Time:                        20:56:37   Log-Likelihood:                -35.570\n",
       "No. Observations:                  27   AIC:                             75.14\n",
       "Df Residuals:                      25   BIC:                             77.73\n",
       "Df Model:                           1                                         \n",
       "Covariance Type:            nonrobust                                         \n",
       "==============================================================================\n",
       "                 coef    std err          t      P>|t|      [95.0% Conf. Int.]\n",
       "------------------------------------------------------------------------------\n",
       "Intercept      0.6631      0.391      1.697      0.102        -0.142     1.468\n",
       "Hours          0.9067      0.126      7.174      0.000         0.646     1.167\n",
       "==============================================================================\n",
       "Omnibus:                        0.596   Durbin-Watson:                   1.507\n",
       "Prob(Omnibus):                  0.742   Jarque-Bera (JB):                0.660\n",
       "Skew:                           0.138   Prob(JB):                        0.719\n",
       "Kurtosis:                       2.285   Cond. No.                         7.25\n",
       "==============================================================================\n",
       "\n",
       "Warnings:\n",
       "[1] Standard Errors assume that the covariance matrix of the errors is correctly specified.\n",
       "\"\"\""
      ]
     },
     "execution_count": 69,
     "metadata": {},
     "output_type": "execute_result"
    }
   ],
   "source": [
    "# Plot this regression over the top of the data. Could the regression be better?\n",
    "lm.summary()"
   ]
  },
  {
   "cell_type": "code",
   "execution_count": 84,
   "metadata": {
    "collapsed": false
   },
   "outputs": [
    {
     "data": {
      "text/html": [
       "<div>\n",
       "<table border=\"1\" class=\"dataframe\">\n",
       "  <thead>\n",
       "    <tr style=\"text-align: right;\">\n",
       "      <th></th>\n",
       "      <th>Hours</th>\n",
       "    </tr>\n",
       "  </thead>\n",
       "  <tbody>\n",
       "    <tr>\n",
       "      <th>0</th>\n",
       "      <td>1</td>\n",
       "    </tr>\n",
       "    <tr>\n",
       "      <th>1</th>\n",
       "      <td>5</td>\n",
       "    </tr>\n",
       "  </tbody>\n",
       "</table>\n",
       "</div>"
      ],
      "text/plain": [
       "   Hours\n",
       "0      1\n",
       "1      5"
      ]
     },
     "execution_count": 84,
     "metadata": {},
     "output_type": "execute_result"
    }
   ],
   "source": [
    "X_new = pd.DataFrame({'Hours': [themepark_data.Hours.min(), themepark_data.Hours.max()]})\n",
    "X_new.head()"
   ]
  },
  {
   "cell_type": "code",
   "execution_count": 82,
   "metadata": {
    "collapsed": false
   },
   "outputs": [
    {
     "data": {
      "text/plain": [
       "array([ 1.56979866,  5.1966443 ])"
      ]
     },
     "execution_count": 82,
     "metadata": {},
     "output_type": "execute_result"
    }
   ],
   "source": [
    "preds = lm.predict(X_new)\n",
    "preds\n"
   ]
  },
  {
   "cell_type": "code",
   "execution_count": 90,
   "metadata": {
    "collapsed": false
   },
   "outputs": [
    {
     "data": {
      "text/plain": [
       "[<matplotlib.lines.Line2D at 0xe8183c8>]"
      ]
     },
     "execution_count": 90,
     "metadata": {},
     "output_type": "execute_result"
    },
    {
     "data": {
      "image/png": "[encoded data removed]",
      "text/plain": [
       "<matplotlib.figure.Figure at 0xe8182e8>"
      ]
     },
     "metadata": {},
     "output_type": "display_data"
    }
   ],
   "source": [
    "# Now, plot a line over the points that uses just the two points\n",
    "themepark_data.plot(kind='scatter', x='Hours', y='Enjoyment')\n",
    "# this code overlays a straight line between the the coordinates created by X_new and preds\n",
    "plt.plot(X_new, preds, c='red', linewidth=5)"
   ]
  },
  {
   "cell_type": "code",
   "execution_count": 85,
   "metadata": {
    "collapsed": false
   },
   "outputs": [
    {
     "data": {
      "text/html": [
       "<div>\n",
       "<table border=\"1\" class=\"dataframe\">\n",
       "  <thead>\n",
       "    <tr style=\"text-align: right;\">\n",
       "      <th></th>\n",
       "      <th>Hours</th>\n",
       "      <th>Enjoyment</th>\n",
       "    </tr>\n",
       "  </thead>\n",
       "  <tbody>\n",
       "    <tr>\n",
       "      <th>count</th>\n",
       "      <td>27.000000</td>\n",
       "      <td>27.000000</td>\n",
       "    </tr>\n",
       "    <tr>\n",
       "      <th>mean</th>\n",
       "      <td>2.740741</td>\n",
       "      <td>3.148148</td>\n",
       "    </tr>\n",
       "    <tr>\n",
       "      <th>std</th>\n",
       "      <td>1.456883</td>\n",
       "      <td>1.610153</td>\n",
       "    </tr>\n",
       "    <tr>\n",
       "      <th>min</th>\n",
       "      <td>1.000000</td>\n",
       "      <td>0.000000</td>\n",
       "    </tr>\n",
       "    <tr>\n",
       "      <th>25%</th>\n",
       "      <td>1.500000</td>\n",
       "      <td>2.000000</td>\n",
       "    </tr>\n",
       "    <tr>\n",
       "      <th>50%</th>\n",
       "      <td>3.000000</td>\n",
       "      <td>3.000000</td>\n",
       "    </tr>\n",
       "    <tr>\n",
       "      <th>75%</th>\n",
       "      <td>4.000000</td>\n",
       "      <td>4.500000</td>\n",
       "    </tr>\n",
       "    <tr>\n",
       "      <th>max</th>\n",
       "      <td>5.000000</td>\n",
       "      <td>5.000000</td>\n",
       "    </tr>\n",
       "  </tbody>\n",
       "</table>\n",
       "</div>"
      ],
      "text/plain": [
       "           Hours  Enjoyment\n",
       "count  27.000000  27.000000\n",
       "mean    2.740741   3.148148\n",
       "std     1.456883   1.610153\n",
       "min     1.000000   0.000000\n",
       "25%     1.500000   2.000000\n",
       "50%     3.000000   3.000000\n",
       "75%     4.000000   4.500000\n",
       "max     5.000000   5.000000"
      ]
     },
     "execution_count": 85,
     "metadata": {},
     "output_type": "execute_result"
    }
   ],
   "source": [
    "themepark_data.describe(include='all')"
   ]
  },
  {
   "cell_type": "code",
   "execution_count": 95,
   "metadata": {
    "collapsed": false
   },
   "outputs": [
    {
     "data": {
      "text/plain": [
       "Intercept    0.663087\n",
       "Hours        0.906711\n",
       "dtype: float64"
      ]
     },
     "execution_count": 95,
     "metadata": {},
     "output_type": "execute_result"
    }
   ],
   "source": [
    "# create a fitted model in one line\n",
    "#lm = smf.ols(formula='Enjoyment ~ Hours', data=house_data).fit()\n",
    "# print the coefficients!\n",
    "lm.params"
   ]
  },
  {
   "cell_type": "code",
   "execution_count": 6,
   "metadata": {
    "collapsed": false
   },
   "outputs": [
    {
     "data": {
      "text/plain": [
       "Intercept   -2.498002e-16\n",
       "Adj_Hours    9.067114e-01\n",
       "dtype: float64"
      ]
     },
     "execution_count": 6,
     "metadata": {},
     "output_type": "execute_result"
    }
   ],
   "source": [
    "#import pandas as pd\n",
    "#import numpy as np\n",
    "\n",
    "themepark_data['Adj_Hours']=list(themepark_data.Hours-themepark_data.Hours.mean())\n",
    "themepark_data['Adj_Enjoyment']=list(themepark_data.Enjoyment-themepark_data.Enjoyment.mean())\n",
    "themepark_data\n",
    "\n",
    "\n",
    "# create a fitted model in one line\n",
    "lm1 = smf.ols(formula='Adj_Enjoyment ~ Adj_Hours', data=themepark_data).fit()\n",
    "# print the coefficients!\n",
    "lm1.params"
   ]
  },
  {
   "cell_type": "code",
   "execution_count": 184,
   "metadata": {
    "collapsed": false
   },
   "outputs": [
    {
     "data": {
      "text/plain": [
       "2.740740740740741"
      ]
     },
     "execution_count": 184,
     "metadata": {},
     "output_type": "execute_result"
    }
   ],
   "source": [
    "themepark_data.Hours.mean()"
   ]
  },
  {
   "cell_type": "code",
   "execution_count": 7,
   "metadata": {
    "collapsed": false,
    "scrolled": true
   },
   "outputs": [
    {
     "data": {
      "text/html": [
       "<div>\n",
       "<table border=\"1\" class=\"dataframe\">\n",
       "  <thead>\n",
       "    <tr style=\"text-align: right;\">\n",
       "      <th></th>\n",
       "      <th>Hours</th>\n",
       "      <th>Enjoyment</th>\n",
       "      <th>Adj_Hours</th>\n",
       "      <th>Adj_Enjoyment</th>\n",
       "    </tr>\n",
       "  </thead>\n",
       "  <tbody>\n",
       "    <tr>\n",
       "      <th>0</th>\n",
       "      <td>1</td>\n",
       "      <td>1</td>\n",
       "      <td>-1.740741</td>\n",
       "      <td>-2.148148</td>\n",
       "    </tr>\n",
       "    <tr>\n",
       "      <th>1</th>\n",
       "      <td>2</td>\n",
       "      <td>3</td>\n",
       "      <td>-0.740741</td>\n",
       "      <td>-0.148148</td>\n",
       "    </tr>\n",
       "    <tr>\n",
       "      <th>2</th>\n",
       "      <td>3</td>\n",
       "      <td>4</td>\n",
       "      <td>0.259259</td>\n",
       "      <td>0.851852</td>\n",
       "    </tr>\n",
       "    <tr>\n",
       "      <th>3</th>\n",
       "      <td>4</td>\n",
       "      <td>5</td>\n",
       "      <td>1.259259</td>\n",
       "      <td>1.851852</td>\n",
       "    </tr>\n",
       "    <tr>\n",
       "      <th>4</th>\n",
       "      <td>5</td>\n",
       "      <td>5</td>\n",
       "      <td>2.259259</td>\n",
       "      <td>1.851852</td>\n",
       "    </tr>\n",
       "    <tr>\n",
       "      <th>5</th>\n",
       "      <td>1</td>\n",
       "      <td>0</td>\n",
       "      <td>-1.740741</td>\n",
       "      <td>-3.148148</td>\n",
       "    </tr>\n",
       "    <tr>\n",
       "      <th>6</th>\n",
       "      <td>1</td>\n",
       "      <td>1</td>\n",
       "      <td>-1.740741</td>\n",
       "      <td>-2.148148</td>\n",
       "    </tr>\n",
       "    <tr>\n",
       "      <th>7</th>\n",
       "      <td>1</td>\n",
       "      <td>0</td>\n",
       "      <td>-1.740741</td>\n",
       "      <td>-3.148148</td>\n",
       "    </tr>\n",
       "    <tr>\n",
       "      <th>8</th>\n",
       "      <td>1</td>\n",
       "      <td>3</td>\n",
       "      <td>-1.740741</td>\n",
       "      <td>-0.148148</td>\n",
       "    </tr>\n",
       "    <tr>\n",
       "      <th>9</th>\n",
       "      <td>1</td>\n",
       "      <td>2</td>\n",
       "      <td>-1.740741</td>\n",
       "      <td>-1.148148</td>\n",
       "    </tr>\n",
       "    <tr>\n",
       "      <th>10</th>\n",
       "      <td>1</td>\n",
       "      <td>1</td>\n",
       "      <td>-1.740741</td>\n",
       "      <td>-2.148148</td>\n",
       "    </tr>\n",
       "    <tr>\n",
       "      <th>11</th>\n",
       "      <td>2</td>\n",
       "      <td>2</td>\n",
       "      <td>-0.740741</td>\n",
       "      <td>-1.148148</td>\n",
       "    </tr>\n",
       "    <tr>\n",
       "      <th>12</th>\n",
       "      <td>2</td>\n",
       "      <td>2</td>\n",
       "      <td>-0.740741</td>\n",
       "      <td>-1.148148</td>\n",
       "    </tr>\n",
       "    <tr>\n",
       "      <th>13</th>\n",
       "      <td>2</td>\n",
       "      <td>4</td>\n",
       "      <td>-0.740741</td>\n",
       "      <td>0.851852</td>\n",
       "    </tr>\n",
       "    <tr>\n",
       "      <th>14</th>\n",
       "      <td>2</td>\n",
       "      <td>4</td>\n",
       "      <td>-0.740741</td>\n",
       "      <td>0.851852</td>\n",
       "    </tr>\n",
       "    <tr>\n",
       "      <th>15</th>\n",
       "      <td>2</td>\n",
       "      <td>3</td>\n",
       "      <td>-0.740741</td>\n",
       "      <td>-0.148148</td>\n",
       "    </tr>\n",
       "    <tr>\n",
       "      <th>16</th>\n",
       "      <td>3</td>\n",
       "      <td>3</td>\n",
       "      <td>0.259259</td>\n",
       "      <td>-0.148148</td>\n",
       "    </tr>\n",
       "    <tr>\n",
       "      <th>17</th>\n",
       "      <td>3</td>\n",
       "      <td>2</td>\n",
       "      <td>0.259259</td>\n",
       "      <td>-1.148148</td>\n",
       "    </tr>\n",
       "    <tr>\n",
       "      <th>18</th>\n",
       "      <td>3</td>\n",
       "      <td>3</td>\n",
       "      <td>0.259259</td>\n",
       "      <td>-0.148148</td>\n",
       "    </tr>\n",
       "    <tr>\n",
       "      <th>19</th>\n",
       "      <td>3</td>\n",
       "      <td>4</td>\n",
       "      <td>0.259259</td>\n",
       "      <td>0.851852</td>\n",
       "    </tr>\n",
       "    <tr>\n",
       "      <th>20</th>\n",
       "      <td>3</td>\n",
       "      <td>5</td>\n",
       "      <td>0.259259</td>\n",
       "      <td>1.851852</td>\n",
       "    </tr>\n",
       "    <tr>\n",
       "      <th>21</th>\n",
       "      <td>4</td>\n",
       "      <td>4</td>\n",
       "      <td>1.259259</td>\n",
       "      <td>0.851852</td>\n",
       "    </tr>\n",
       "    <tr>\n",
       "      <th>22</th>\n",
       "      <td>4</td>\n",
       "      <td>5</td>\n",
       "      <td>1.259259</td>\n",
       "      <td>1.851852</td>\n",
       "    </tr>\n",
       "    <tr>\n",
       "      <th>23</th>\n",
       "      <td>5</td>\n",
       "      <td>5</td>\n",
       "      <td>2.259259</td>\n",
       "      <td>1.851852</td>\n",
       "    </tr>\n",
       "    <tr>\n",
       "      <th>24</th>\n",
       "      <td>5</td>\n",
       "      <td>5</td>\n",
       "      <td>2.259259</td>\n",
       "      <td>1.851852</td>\n",
       "    </tr>\n",
       "    <tr>\n",
       "      <th>25</th>\n",
       "      <td>5</td>\n",
       "      <td>5</td>\n",
       "      <td>2.259259</td>\n",
       "      <td>1.851852</td>\n",
       "    </tr>\n",
       "    <tr>\n",
       "      <th>26</th>\n",
       "      <td>5</td>\n",
       "      <td>4</td>\n",
       "      <td>2.259259</td>\n",
       "      <td>0.851852</td>\n",
       "    </tr>\n",
       "  </tbody>\n",
       "</table>\n",
       "</div>"
      ],
      "text/plain": [
       "    Hours  Enjoyment  Adj_Hours  Adj_Enjoyment\n",
       "0       1          1  -1.740741      -2.148148\n",
       "1       2          3  -0.740741      -0.148148\n",
       "2       3          4   0.259259       0.851852\n",
       "3       4          5   1.259259       1.851852\n",
       "4       5          5   2.259259       1.851852\n",
       "5       1          0  -1.740741      -3.148148\n",
       "6       1          1  -1.740741      -2.148148\n",
       "7       1          0  -1.740741      -3.148148\n",
       "8       1          3  -1.740741      -0.148148\n",
       "9       1          2  -1.740741      -1.148148\n",
       "10      1          1  -1.740741      -2.148148\n",
       "11      2          2  -0.740741      -1.148148\n",
       "12      2          2  -0.740741      -1.148148\n",
       "13      2          4  -0.740741       0.851852\n",
       "14      2          4  -0.740741       0.851852\n",
       "15      2          3  -0.740741      -0.148148\n",
       "16      3          3   0.259259      -0.148148\n",
       "17      3          2   0.259259      -1.148148\n",
       "18      3          3   0.259259      -0.148148\n",
       "19      3          4   0.259259       0.851852\n",
       "20      3          5   0.259259       1.851852\n",
       "21      4          4   1.259259       0.851852\n",
       "22      4          5   1.259259       1.851852\n",
       "23      5          5   2.259259       1.851852\n",
       "24      5          5   2.259259       1.851852\n",
       "25      5          5   2.259259       1.851852\n",
       "26      5          4   2.259259       0.851852"
      ]
     },
     "execution_count": 7,
     "metadata": {},
     "output_type": "execute_result"
    }
   ],
   "source": [
    "alist=[]\n",
    "for x in list(themepark_data.Hours):\n",
    " adj_hours=x-themepark_data.Hours.mean()\n",
    " alist.append(adj_hours)\n",
    "\n",
    "themepark_data['Adj_Hours']=alist\n",
    "themepark_data\n",
    "\n"
   ]
  },
  {
   "cell_type": "code",
   "execution_count": 8,
   "metadata": {
    "collapsed": false
   },
   "outputs": [
    {
     "data": {
      "text/plain": [
       "Intercept   -2.498002e-16\n",
       "Adj_Hours    9.067114e-01\n",
       "dtype: float64"
      ]
     },
     "execution_count": 8,
     "metadata": {},
     "output_type": "execute_result"
    }
   ],
   "source": [
    "lm5 = smf.ols(formula='Adj_Enjoyment ~ Adj_Hours', data=themepark_data).fit()\n",
    "lm5.params"
   ]
  },
  {
   "cell_type": "code",
   "execution_count": null,
   "metadata": {
    "collapsed": false
   },
   "outputs": [],
   "source": [
    "\n"
   ]
  },
  {
   "cell_type": "code",
   "execution_count": null,
   "metadata": {
    "collapsed": false
   },
   "outputs": [],
   "source": []
  },
  {
   "cell_type": "code",
   "execution_count": null,
   "metadata": {
    "collapsed": true
   },
   "outputs": [],
   "source": []
  },
  {
   "cell_type": "code",
   "execution_count": null,
   "metadata": {
    "collapsed": false
   },
   "outputs": [],
   "source": []
  },
  {
   "cell_type": "code",
   "execution_count": null,
   "metadata": {
    "collapsed": true
   },
   "outputs": [],
   "source": []
  }
 ],
 "metadata": {
  "anaconda-cloud": {},
  "kernelspec": {
   "display_name": "Python 3",
   "language": "python",
   "name": "python3"
  },
  "language_info": {
   "codemirror_mode": {
    "name": "ipython",
    "version": 3
   },
   "file_extension": ".py",
   "mimetype": "text/x-python",
   "name": "python",
   "nbconvert_exporter": "python",
   "pygments_lexer": "ipython3",
   "version": "3.6.0"
  }
 },
 "nbformat": 4,
 "nbformat_minor": 0
}
